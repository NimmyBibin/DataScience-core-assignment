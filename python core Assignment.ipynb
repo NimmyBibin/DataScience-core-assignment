{
 "cells": [
  {
   "cell_type": "markdown",
   "id": "3d1ddadf",
   "metadata": {},
   "source": [
    "## 1. Write a Python program to reverse a string without using any built-in string reversal functions."
   ]
  },
  {
   "cell_type": "code",
   "execution_count": 1,
   "id": "982b758c",
   "metadata": {},
   "outputs": [
    {
     "data": {
      "text/plain": [
       "'yoJymmiN'"
      ]
     },
     "execution_count": 1,
     "metadata": {},
     "output_type": "execute_result"
    }
   ],
   "source": [
    "s=\"NimmyJoy\"\n",
    "s[::-1]"
   ]
  },
  {
   "cell_type": "markdown",
   "id": "c27442ad",
   "metadata": {},
   "source": [
    "### 2. Implement a function to check if a given string is a palindrome."
   ]
  },
  {
   "cell_type": "code",
   "execution_count": null,
   "id": "c761b941",
   "metadata": {},
   "outputs": [],
   "source": [
    "\n",
    "def is_palindrome(string):\n",
    "    string = string.replace(\" \", \"\").lower()\n",
    "    if string==string[::-1]:\n",
    "        return(\"its a palindrome\")\n",
    "    else:\n",
    "        return(\"not a palindrome\")\n",
    "string=input(\"enter the string\")\n",
    "print(is_palindrome(string))\n",
    "\n",
    "    "
   ]
  },
  {
   "cell_type": "markdown",
   "id": "88ab5821",
   "metadata": {},
   "source": [
    "3. Write a program to find the largest element in a given list."
   ]
  },
  {
   "cell_type": "code",
   "execution_count": null,
   "id": "70b7d4aa",
   "metadata": {},
   "outputs": [],
   "source": [
    "\n",
    "def largest(arr, n):\n",
    "    ans = max(arr)\n",
    "    return ans;\n",
    "\n",
    "\n",
    "if __name__ == '__main__':\n",
    "    arr = [10, 324, 45, 90, 9808]\n",
    "    n = len(arr)\n",
    "    print (\"Largest in given array \", largest(arr, n))\n",
    "\n",
    "    \n",
    "    \n",
    "    \n",
    "    "
   ]
  },
  {
   "cell_type": "markdown",
   "id": "2d4ffffd",
   "metadata": {},
   "source": [
    "4. Implement a function to count the occurrence of each element in a list."
   ]
  },
  {
   "cell_type": "code",
   "execution_count": null,
   "id": "cfe4536c",
   "metadata": {},
   "outputs": [],
   "source": [
    "def count_occurances(lst):\n",
    "    occurance={}\n",
    "    for element in lst:\n",
    "        if element in occurance:\n",
    "            occurance[element]+=1\n",
    "        else:\n",
    "            occurance[element]=1\n",
    "    return occurance\n",
    "if __name__==\"__main__\":\n",
    "    lst=[1,2,3,3,1,1,1,7,8,9,0,6]\n",
    "    print(count_occurances(lst))\n",
    "\n",
    "      "
   ]
  },
  {
   "cell_type": "markdown",
   "id": "ef66a8c0",
   "metadata": {},
   "source": [
    "5. Write a Python program to find the second largest number in a list."
   ]
  },
  {
   "cell_type": "code",
   "execution_count": null,
   "id": "ee9be71d",
   "metadata": {},
   "outputs": [],
   "source": [
    "def scnd_largest(arr):  \n",
    "    second_largest = arr[0]  \n",
    "    largest_val = arr[0]  \n",
    "    for i in range(len(arr)):  \n",
    "        if arr[i] > largest_val:  \n",
    "            largest_val = arr[i]  \n",
    "  \n",
    "    for i in range(len(arr)):  \n",
    "        if arr[i] > second_largest and arr[i] != largest_val:  \n",
    "            second_largest = arr[i]  \n",
    "  \n",
    "    return second_largest  \n",
    "print(scnd_largest([20, 30, 40, 25, 10]))  \n",
    "  \n",
    "            \n",
    "          \n",
    "            \n",
    "            "
   ]
  },
  {
   "cell_type": "markdown",
   "id": "21171a08",
   "metadata": {},
   "source": [
    "6. Implement a function to remove duplicate elements from a list."
   ]
  },
  {
   "cell_type": "code",
   "execution_count": null,
   "id": "49661a7c",
   "metadata": {},
   "outputs": [],
   "source": [
    "def remove_duplicate(arr):\n",
    "    values=[]\n",
    "    for i in arr:\n",
    "        if i not in values:\n",
    "            values.append(i)\n",
    "    return values\n",
    "arr=[1,12,13,13,14]\n",
    "print(remove_duplicate(arr))\n",
    "\n",
    "\n"
   ]
  },
  {
   "cell_type": "code",
   "execution_count": null,
   "id": "41fe84ae",
   "metadata": {},
   "outputs": [],
   "source": [
    "def remove_duplicates(lst):\n",
    "    unique_list = []\n",
    "    for element in lst:\n",
    "        if element not in unique_list:\n",
    "            unique_list.append(element)\n",
    "    return unique_list\n",
    "arr=[1,12,13,14]\n",
    "print(remove_duplicates(arr))\n",
    "\n",
    "# Test the function\n",
    "input_list = input(\"Enter a list of elements (space-separated): \").split()\n",
    "unique_elements = remove_duplicates(input_list)\n",
    "print(\"List with duplicate elements removed:\", unique_elements)\n",
    "       "
   ]
  },
  {
   "cell_type": "markdown",
   "id": "eed9e480",
   "metadata": {},
   "source": [
    "7. Write a program to calculate the factorial of a given number."
   ]
  },
  {
   "cell_type": "code",
   "execution_count": null,
   "id": "3610aeeb",
   "metadata": {},
   "outputs": [],
   "source": [
    "def factorial(n):\n",
    "    if n == 0 or n == 1:\n",
    "        return 1\n",
    "    else:\n",
    "        return n * factorial(n - 1)\n",
    "\n",
    "# Test the program\n",
    "input_number = int(input(\"Enter a number: \"))\n",
    "result = factorial(input_number)\n",
    "print(\"Factorial:\", result)\n"
   ]
  },
  {
   "cell_type": "markdown",
   "id": "737d8799",
   "metadata": {},
   "source": [
    "8. Implement a function to check if a given number is prime."
   ]
  },
  {
   "cell_type": "code",
   "execution_count": null,
   "id": "acd634be",
   "metadata": {},
   "outputs": [],
   "source": [
    "num = int(input(\"Enter a number: \"))\n",
    "\n",
    "# define a flag variable\n",
    "flag = False\n",
    "\n",
    "if num == 1:\n",
    "    print(num, \"is not a prime number\")\n",
    "elif num > 1:\n",
    "    # check for factors\n",
    "    for i in range(2, num):\n",
    "        if (num % i) == 0:\n",
    "            # if factor is found, set flag to True\n",
    "            flag = True\n",
    "            # break out of loop\n",
    "            break\n",
    "\n",
    "    # check if flag is True\n",
    "    if flag:\n",
    "        print(num, \"is not a prime number\")\n",
    "    else:\n",
    "        print(num, \"is a prime number\")"
   ]
  },
  {
   "cell_type": "code",
   "execution_count": null,
   "id": "c7e1180e",
   "metadata": {},
   "outputs": [],
   "source": [
    "# Take input from the user\n",
    "input_list = input(\"Enter a list of integers (space-separated): \").split()\n",
    "input_list = [int(num) for num in input_list]\n",
    "\n",
    "# Sort the list in ascending order\n",
    "sorted_list = sorted(input_list)\n",
    "\n",
    "# Print the sorted list\n",
    "print(\"Sorted list in ascending order:\", sorted_list)\n"
   ]
  },
  {
   "cell_type": "markdown",
   "id": "96c07520",
   "metadata": {},
   "source": [
    "10. Implement a function to find the sum of all numbers in a list."
   ]
  },
  {
   "cell_type": "code",
   "execution_count": null,
   "id": "e8d4bc08",
   "metadata": {},
   "outputs": [],
   "source": [
    "def sum_of_numbers(numbers):\n",
    "    total = 0\n",
    "    for num in numbers:\n",
    "        total += num\n",
    "    return total\n",
    "\n",
    "# Test the function\n",
    "input_list = input(\"Enter a list of numbers (space-separated): \").split()\n",
    "input_list = [int(num) for num in input_list]\n",
    "sum_of_all_numbers = sum_of_numbers(input_list)\n",
    "print(\"Sum of numbers:\", sum_of_all_numbers)\n"
   ]
  },
  {
   "cell_type": "markdown",
   "id": "e8527853",
   "metadata": {},
   "source": [
    "11. Write a program to find the common elements between two lists."
   ]
  },
  {
   "cell_type": "code",
   "execution_count": null,
   "id": "00c99fe2",
   "metadata": {},
   "outputs": [],
   "source": [
    "def find_common_elements(list1, list2):\n",
    "    common_elements = []\n",
    "    for element in list1:\n",
    "        if element in list2:\n",
    "            common_elements.append(element)\n",
    "    return common_elements\n",
    "\n",
    "# Test the program\n",
    "input_list1 = input(\"Enter the elements of the first list (space-separated): \").split()\n",
    "input_list2 = input(\"Enter the elements of the second list (space-separated): \").split()\n",
    "list1 = [int(num) for num in input_list1]\n",
    "list2 = [int(num) for num in input_list2]\n",
    "common_elements = find_common_elements(list1, list2)\n",
    "print(\"Common elements:\", common_elements)\n"
   ]
  },
  {
   "cell_type": "code",
   "execution_count": null,
   "id": "68f48379",
   "metadata": {},
   "outputs": [],
   "source": [
    "def is_anagram(string1, string2):\n",
    "    # Remove whitespace and convert to lowercase\n",
    "    string1 = string1.replace(\" \", \"\").lower()\n",
    "    string2 = string2.replace(\" \", \"\").lower()\n",
    "    \n",
    "    # Check if the sorted strings are equal\n",
    "    return sorted(string1) == sorted(string2)\n",
    "\n",
    "# Test the function\n",
    "input_string1 = input(\"Enter the first string: \")\n",
    "input_string2 = input(\"Enter the second string: \")\n",
    "if is_anagram(input_string1, input_string2):\n",
    "    print(\"The strings are anagrams.\")\n",
    "else:\n",
    "    print(\"The strings are not anagrams.\")"
   ]
  },
  {
   "cell_type": "markdown",
   "id": "1673d772",
   "metadata": {},
   "source": [
    "13. Write a Python program to generate all permutations of a given string."
   ]
  },
  {
   "cell_type": "code",
   "execution_count": null,
   "id": "fcbc235b",
   "metadata": {},
   "outputs": [],
   "source": [
    "def permutations(string):\n",
    "    # Base case: if the string is empty, return an empty list\n",
    "    if len(string) == 0:\n",
    "        return []\n",
    "\n",
    "    # Base case: if the string has only one character, return the string itself as a single permutation\n",
    "    if len(string) == 1:\n",
    "        return [string]\n",
    "\n",
    "    # Recursive case: generate permutations by selecting each character as the first character\n",
    "    result = []  # List to store permutations\n",
    "\n",
    "    for i in range(len(string)):\n",
    "        current_char = string[i]\n",
    "        remaining_chars = string[:i] + string[i+1:]\n",
    "\n",
    "        # Recursive call to generate permutations of the remaining characters\n",
    "        sub_permutations = permutations(remaining_chars)\n",
    "\n",
    "        # Add the current character to the beginning of each sub-permutation\n",
    "        for sub_permutation in sub_permutations:\n",
    "            result.append(current_char + sub_permutation)\n",
    "\n",
    "    return result\n",
    "\n",
    "# Test the program\n",
    "input_string = input(\"Enter a string: \")\n",
    "permutation_list = permutations(input_string)\n",
    "print(\"Permutations of the string:\")\n",
    "for permutation in permutation_list:\n",
    "    print(permutation)\n"
   ]
  },
  {
   "cell_type": "markdown",
   "id": "c7fbadfb",
   "metadata": {},
   "source": [
    "14. Implement a function to calculate the Fibonacci sequence up to a given number of terms."
   ]
  },
  {
   "cell_type": "code",
   "execution_count": null,
   "id": "0a7732a4",
   "metadata": {},
   "outputs": [],
   "source": [
    "def fibonacci_sequence(n):\n",
    "    sequence = []\n",
    "    \n",
    "    if n >= 1:\n",
    "        sequence.append(0)\n",
    "    \n",
    "    if n >= 2:\n",
    "        sequence.append(1)\n",
    "    \n",
    "    for i in range(2, n):\n",
    "        next_num = sequence[i-1] + sequence[i-2]\n",
    "        sequence.append(next_num)\n",
    "    \n",
    "    return sequence\n",
    "\n",
    "# Test the function\n",
    "num_terms = int(input(\"Enter the number of terms for the Fibonacci sequence: \"))\n",
    "fibonacci_seq = fibonacci_sequence(num_terms)\n",
    "print(\"Fibonacci sequence:\", fibonacci_seq)\n"
   ]
  },
  {
   "cell_type": "markdown",
   "id": "9ea58a07",
   "metadata": {},
   "source": [
    "15. Write a program to find the median of a list of numbers."
   ]
  },
  {
   "cell_type": "code",
   "execution_count": null,
   "id": "fa313f7f",
   "metadata": {},
   "outputs": [],
   "source": [
    "def find_median(numbers):\n",
    "    sorted_numbers = sorted(numbers)\n",
    "    n = len(sorted_numbers)\n",
    "    if n % 2 == 0:\n",
    "        # If the number of elements is even, calculate the average of the middle two elements\n",
    "        middle_left = sorted_numbers[n // 2 - 1]\n",
    "        middle_right = sorted_numbers[n // 2]\n",
    "        median = (middle_left + middle_right) / 2\n",
    "    else:\n",
    "        # If the number of elements is odd, take the middle element as the median\n",
    "        median = sorted_numbers[n // 2]\n",
    "    return median\n",
    "\n",
    "# Test the program\n",
    "input_list = input(\"Enter a list of numbers (space-separated): \").split()\n",
    "input_list = [float(num) for num in input_list]\n",
    "median = find_median(input_list)\n",
    "print(\"Median:\", median)\n"
   ]
  },
  {
   "cell_type": "markdown",
   "id": "dc70ba32",
   "metadata": {},
   "source": [
    "16. Implement a function to check if a given list is sorted in non-decreasing order."
   ]
  },
  {
   "cell_type": "code",
   "execution_count": null,
   "id": "380ad98e",
   "metadata": {},
   "outputs": [],
   "source": [
    "def is_sorted(numbers):\n",
    "    for i in range(1, len(numbers)):\n",
    "        if numbers[i] < numbers[i - 1]:\n",
    "            return False\n",
    "    return True\n",
    "\n",
    "# Test the function\n",
    "input_list = input(\"Enter a list of numbers (space-separated): \").split()\n",
    "input_list = [int(num) for num in input_list]\n",
    "if is_sorted(input_list):\n",
    "    print(\"The list is sorted in non-decreasing order.\")\n",
    "else:\n",
    "    print(\"The list is not sorted in non-decreasing order.\")\n"
   ]
  },
  {
   "cell_type": "markdown",
   "id": "aac02d2f",
   "metadata": {},
   "source": [
    "17. Write a Python program to find the intersection of two lists."
   ]
  },
  {
   "cell_type": "code",
   "execution_count": null,
   "id": "ef1a4d1c",
   "metadata": {},
   "outputs": [],
   "source": [
    "def find_intersection(list1, list2):\n",
    "    intersection = []\n",
    "    for element in list1:\n",
    "        if element in list2:\n",
    "            intersection.append(element)\n",
    "    return intersection\n",
    "\n",
    "# Test the program\n",
    "input_list1 = input(\"Enter the elements of the first list (space-separated): \").split()\n",
    "input_list2 = input(\"Enter the elements of the second list (space-separated): \").split()\n",
    "list1 = [int(num) for num in input_list1]\n",
    "list2 = [int(num) for num in input_list2]\n",
    "intersection = find_intersection(list1, list2)\n",
    "print(\"Intersection of the two lists:\", intersection)\n"
   ]
  },
  {
   "cell_type": "markdown",
   "id": "f17abcca",
   "metadata": {},
   "source": [
    "18. Implement a function to find the maximum subarray sum in a given list."
   ]
  },
  {
   "cell_type": "code",
   "execution_count": null,
   "id": "028eeaab",
   "metadata": {},
   "outputs": [],
   "source": [
    "def max_subarray_sum(nums):\n",
    "    max_sum = float('-inf')\n",
    "    current_sum = 0\n",
    "\n",
    "    for num in nums:\n",
    "        current_sum = max(num, current_sum + num)\n",
    "        max_sum = max(max_sum, current_sum)\n",
    "\n",
    "    return max_sum\n",
    "\n",
    "# Test the function\n",
    "input_list = input(\"Enter a list of numbers (space-separated): \").split()\n",
    "nums = [int(num) for num in input_list]\n",
    "max_sum = max_subarray_sum(nums)\n",
    "print(\"Maximum subarray sum:\", max_sum)\n"
   ]
  },
  {
   "cell_type": "markdown",
   "id": "1b66a562",
   "metadata": {},
   "source": [
    "19. Write a program to remove all vowels from a given string."
   ]
  },
  {
   "cell_type": "code",
   "execution_count": null,
   "id": "ef9399bc",
   "metadata": {},
   "outputs": [],
   "source": [
    "def remove_vowels(string):\n",
    "    vowels = ['a', 'e', 'i', 'o', 'u']\n",
    "    new_string = ''.join([char for char in string if char.lower() not in vowels])\n",
    "    return new_string\n",
    "\n",
    "# Test the program\n",
    "input_string = input(\"Enter a string: \")\n",
    "result = remove_vowels(input_string)\n",
    "print(\"String with vowels removed:\", result)\n"
   ]
  },
  {
   "cell_type": "markdown",
   "id": "984af8c6",
   "metadata": {},
   "source": [
    "20. Implement a function to reverse the order of words in a given sentence."
   ]
  },
  {
   "cell_type": "code",
   "execution_count": null,
   "id": "0902ca2b",
   "metadata": {},
   "outputs": [],
   "source": [
    "def reverse_sentence(sentence):\n",
    "    words = sentence.split()\n",
    "    reversed_sentence = ' '.join(words[::-1])\n",
    "    return reversed_sentence\n",
    "\n",
    "# Test the function\n",
    "input_sentence = input(\"Enter a sentence: \")\n",
    "reversed_sentence = reverse_sentence(input_sentence)\n",
    "print(\"Reversed sentence:\", reversed_sentence)\n"
   ]
  },
  {
   "cell_type": "markdown",
   "id": "980e2e34",
   "metadata": {},
   "source": [
    "21. Write a Python program to check if two strings are anagrams of each other."
   ]
  },
  {
   "cell_type": "code",
   "execution_count": null,
   "id": "3b3d0d83",
   "metadata": {},
   "outputs": [],
   "source": [
    "def are_anagrams(string1, string2):\n",
    "    # Remove whitespace and convert to lowercase\n",
    "    string1 = string1.replace(\" \", \"\").lower()\n",
    "    string2 = string2.replace(\" \", \"\").lower()\n",
    "\n",
    "    # Check if the lengths of the strings are equal\n",
    "    if len(string1) != len(string2):\n",
    "        return False\n",
    "\n",
    "    # Create dictionaries to count the frequency of characters in each string\n",
    "    char_count1 = {}\n",
    "    char_count2 = {}\n",
    "\n",
    "    # Count the frequency of characters in string1\n",
    "    for char in string1:\n",
    "        char_count1[char] = char_count1.get(char, 0) + 1\n",
    "\n",
    "    # Count the frequency of characters in string2\n",
    "    for char in string2:\n",
    "        char_count2[char] = char_count2.get(char, 0) + 1\n",
    "\n",
    "    # Check if the character counts are equal\n",
    "    return char_count1 == char_count2\n",
    "\n",
    "# Test the program\n",
    "input_string1 = input(\"Enter the first string: \")\n",
    "input_string2 = input(\"Enter the second string: \")\n",
    "\n",
    "if are_anagrams(input_string1, input_string2):\n",
    "    print(\"The strings are anagrams.\")\n",
    "else:\n",
    "    print(\"The strings are not anagrams.\")\n"
   ]
  },
  {
   "cell_type": "markdown",
   "id": "18dfe44b",
   "metadata": {},
   "source": [
    "22. Implement a function to find the first non-repeating character in a string."
   ]
  },
  {
   "cell_type": "code",
   "execution_count": null,
   "id": "aee51bc4",
   "metadata": {},
   "outputs": [],
   "source": [
    "def find_first_non_repeating_char(string):\n",
    "    char_count = {}\n",
    "    \n",
    "    # Count the frequency of characters in the string\n",
    "    for char in string:\n",
    "        char_count[char] = char_count.get(char, 0) + 1\n",
    "    \n",
    "    # Find the first non-repeating character\n",
    "    for char in string:\n",
    "        if char_count[char] == 1:\n",
    "            return char\n",
    "    \n",
    "    # Return None if no non-repeating character is found\n",
    "    return None\n",
    "\n",
    "# Test the function\n",
    "input_string = input(\"Enter a string: \")\n",
    "result = find_first_non_repeating_char(input_string)\n",
    "\n",
    "if result is not None:\n",
    "    print(\"First non-repeating character:\", result)\n",
    "else:\n",
    "    print(\"No non-repeating character found.\")\n"
   ]
  },
  {
   "cell_type": "markdown",
   "id": "51eb54fa",
   "metadata": {},
   "source": [
    "23. Write a program to find the prime factors of a given number."
   ]
  },
  {
   "cell_type": "code",
   "execution_count": null,
   "id": "e5ea525b",
   "metadata": {},
   "outputs": [],
   "source": [
    "def find_prime_factors(number):\n",
    "    factors = []\n",
    "    divisor = 2\n",
    "\n",
    "    while divisor <= number:\n",
    "        if number % divisor == 0:\n",
    "            factors.append(divisor)\n",
    "            number //= divisor\n",
    "        else:\n",
    "            divisor += 1\n",
    "\n",
    "    return factors\n",
    "\n",
    "# Test the program\n",
    "input_number = int(input(\"Enter a number: \"))\n",
    "prime_factors = find_prime_factors(input_number)\n",
    "print(\"Prime factors of the number:\", prime_factors)\n"
   ]
  },
  {
   "cell_type": "markdown",
   "id": "a403b982",
   "metadata": {},
   "source": [
    "24. Implement a function to check if a given number is a power of two."
   ]
  },
  {
   "cell_type": "code",
   "execution_count": null,
   "id": "d2b8d719",
   "metadata": {},
   "outputs": [],
   "source": [
    "def is_power_of_two(number):\n",
    "    if number <= 0:\n",
    "        return False\n",
    "\n",
    "    while number > 1:\n",
    "        if number % 2 != 0:\n",
    "            return False\n",
    "        number //= 2\n",
    "\n",
    "    return True\n",
    "\n",
    "# Test the function\n",
    "input_number = int(input(\"Enter a number: \"))\n",
    "if is_power_of_two(input_number):\n",
    "    print(\"The number is a power of two.\")\n",
    "else:\n",
    "    print(\"The number is not a power of two.\")\n"
   ]
  },
  {
   "cell_type": "markdown",
   "id": "b0cd356c",
   "metadata": {},
   "source": [
    "25. Write a Python program to merge two sorted lists into a single sorted list."
   ]
  },
  {
   "cell_type": "code",
   "execution_count": null,
   "id": "7d8997b9",
   "metadata": {},
   "outputs": [],
   "source": [
    "def merge_sorted_lists(list1, list2):\n",
    "    merged_list = []\n",
    "    i = j = 0\n",
    "\n",
    "    while i < len(list1) and j < len(list2):\n",
    "        if list1[i] <= list2[j]:\n",
    "            merged_list.append(list1[i])\n",
    "            i += 1\n",
    "        else:\n",
    "            merged_list.append(list2[j])\n",
    "            j += 1\n",
    "\n",
    "    # Append the remaining elements from either list\n",
    "    merged_list.extend(list1[i:])\n",
    "    merged_list.extend(list2[j:])\n",
    "\n",
    "    return merged_list\n",
    "\n",
    "# Test the program\n",
    "input_list1 = input(\"Enter the elements of the first sorted list (space-separated): \").split()\n",
    "input_list2 = input(\"Enter the elements of the second sorted list (space-separated): \").split()\n",
    "list1 = [int(num) for num in input_list1]\n",
    "list2 = [int(num) for num in input_list2]\n",
    "merged_list = merge_sorted_lists(list1, list2)\n",
    "print(\"Merged sorted list:\", merged_list)\n"
   ]
  },
  {
   "cell_type": "markdown",
   "id": "55c0aaa7",
   "metadata": {},
   "source": [
    "26. Implement a function to find the mode of a list of numbers."
   ]
  },
  {
   "cell_type": "code",
   "execution_count": null,
   "id": "a621ab7f",
   "metadata": {},
   "outputs": [],
   "source": [
    "def find_mode(numbers):\n",
    "    frequency = {}\n",
    "    for num in numbers:\n",
    "        frequency[num] = frequency.get(num, 0) + 1\n",
    "\n",
    "    max_frequency = max(frequency.values())\n",
    "    mode = [num for num, freq in frequency.items() if freq == max_frequency]\n",
    "\n",
    "    return mode\n",
    "\n",
    "# Test the function\n",
    "input_list = input(\"Enter a list of numbers (space-separated): \").split()\n",
    "numbers = [float(num) for num in input_list]\n",
    "mode = find_mode(numbers)\n",
    "print(\"Mode(s) of the list:\", mode)\n"
   ]
  },
  {
   "cell_type": "markdown",
   "id": "ec10344a",
   "metadata": {},
   "source": [
    "27. Write a program to find the greatest common divisor (GCD) of two numbers."
   ]
  },
  {
   "cell_type": "code",
   "execution_count": null,
   "id": "fd93fe09",
   "metadata": {},
   "outputs": [],
   "source": [
    "def gcd(a, b):\n",
    "    while b != 0:\n",
    "        a, b = b, a % b\n",
    "    return a\n",
    "\n",
    "# Test the program\n",
    "num1 = int(input(\"Enter the first number: \"))\n",
    "num2 = int(input(\"Enter the second number: \"))\n",
    "result = gcd(num1, num2)\n",
    "print(\"Greatest Common Divisor (GCD):\", result)\n"
   ]
  },
  {
   "cell_type": "markdown",
   "id": "790a2986",
   "metadata": {},
   "source": [
    " Implement a function to calculate the square root of a given number."
   ]
  },
  {
   "cell_type": "code",
   "execution_count": null,
   "id": "7025ba1b",
   "metadata": {},
   "outputs": [],
   "source": [
    "def square_root(number):\n",
    "    if number < 0:\n",
    "        raise ValueError(\"Square root is not defined for negative numbers.\")\n",
    "    if number == 0:\n",
    "        return 0\n",
    "\n",
    "    # Initial guess\n",
    "    guess = number / 2\n",
    "\n",
    "    # Iterate until convergence\n",
    "    while True:\n",
    "        new_guess = (guess + number / guess) / 2\n",
    "        if abs(new_guess - guess) < 1e-6:  # Adjust the tolerance as needed\n",
    "            return new_guess\n",
    "        guess = new_guess\n",
    "\n",
    "# Test the function\n",
    "input_number = float(input(\"Enter a number: \"))\n",
    "result = square_root(input_number)\n",
    "print(\"Square root:\", result)\n"
   ]
  },
  {
   "cell_type": "markdown",
   "id": "82ca844d",
   "metadata": {},
   "source": [
    "29. Write a Python program to check if a given string is a valid palindrome ignoring non-alphanumeric characters."
   ]
  },
  {
   "cell_type": "code",
   "execution_count": null,
   "id": "7b78430d",
   "metadata": {},
   "outputs": [],
   "source": [
    "import re\n",
    "\n",
    "def is_valid_palindrome(string):\n",
    "    # Remove non-alphanumeric characters\n",
    "    alphanumeric_string = re.sub(r'[^a-zA-Z0-9]', '', string)\n",
    "\n",
    "    # Convert to lowercase\n",
    "    lowercase_string = alphanumeric_string.lower()\n",
    "\n",
    "    # Check if the lowercase string is equal to its reverse\n",
    "    return lowercase_string == lowercase_string[::-1]\n",
    "\n",
    "# Test the program\n",
    "input_string = input(\"Enter a string: \")\n",
    "if is_valid_palindrome(input_string):\n",
    "    print(\"The string is a valid palindrome.\")\n",
    "else:\n",
    "    print(\"The string is not a valid palindrome.\")\n"
   ]
  },
  {
   "cell_type": "markdown",
   "id": "60b0a976",
   "metadata": {},
   "source": [
    "30. Implement a function to find the minimum element in a rotated sorted list."
   ]
  },
  {
   "cell_type": "code",
   "execution_count": null,
   "id": "d5f2c647",
   "metadata": {},
   "outputs": [],
   "source": [
    "def find_minimum(nums):\n",
    "    left = 0\n",
    "    right = len(nums) - 1\n",
    "\n",
    "    while left < right:\n",
    "        mid = left + (right - left) // 2\n",
    "\n",
    "        if nums[mid] > nums[right]:\n",
    "            left = mid + 1\n",
    "        else:\n",
    "            right = mid\n",
    "\n",
    "    return nums[left]\n",
    "\n",
    "# Test the function\n",
    "input_list = input(\"Enter a rotated sorted list of numbers (space-separated): \").split()\n",
    "nums = [int(num) for num in input_list]\n",
    "minimum = find_minimum(nums)\n",
    "print(\"Minimum element:\", minimum)\n"
   ]
  },
  {
   "cell_type": "markdown",
   "id": "9a26b149",
   "metadata": {},
   "source": [
    "31. Write a program to find the sum of all even numbers in a list."
   ]
  },
  {
   "cell_type": "code",
   "execution_count": null,
   "id": "276349f0",
   "metadata": {},
   "outputs": [],
   "source": [
    "def sum_of_even_numbers(numbers):\n",
    "    sum_even = sum(num for num in numbers if num % 2 == 0)\n",
    "    return sum_even\n",
    "\n",
    "# Test the program\n",
    "input_list = input(\"Enter a list of numbers (space-separated): \").split()\n",
    "numbers = [int(num) for num in input_list]\n",
    "sum_even = sum_of_even_numbers(numbers)\n",
    "print(\"Sum of even numbers:\", sum_even)\n"
   ]
  },
  {
   "cell_type": "markdown",
   "id": "6d6b07a3",
   "metadata": {},
   "source": [
    "32. Implement a function to calculate the power of a number using recursion."
   ]
  },
  {
   "cell_type": "code",
   "execution_count": null,
   "id": "3e9a2312",
   "metadata": {},
   "outputs": [],
   "source": [
    "def power(base, exponent):\n",
    "    if exponent == 0:\n",
    "        return 1\n",
    "    elif exponent < 0:\n",
    "        return 1 / power(base, -exponent)\n",
    "    else:\n",
    "        return base * power(base, exponent - 1)\n",
    "\n",
    "# Test the function\n",
    "base = float(input(\"Enter the base: \"))\n",
    "exponent = int(input(\"Enter the exponent: \"))\n",
    "result = power(base, exponent)\n",
    "print(\"Result:\", result)\n"
   ]
  },
  {
   "cell_type": "markdown",
   "id": "af9c19ea",
   "metadata": {},
   "source": [
    "33. Write a Python program to remove duplicates from a list while preserving the order."
   ]
  },
  {
   "cell_type": "code",
   "execution_count": null,
   "id": "6ce33cfa",
   "metadata": {},
   "outputs": [],
   "source": [
    "def remove_duplicates_preserve_order(lst):\n",
    "    unique_list = []\n",
    "    seen = set()\n",
    "\n",
    "    for item in lst:\n",
    "        if item not in seen:\n",
    "            unique_list.append(item)\n",
    "            seen.add(item)\n",
    "\n",
    "    return unique_list\n",
    "\n",
    "# Test the program\n",
    "input_list = input(\"Enter a list of elements (space-separated): \").split()\n",
    "result = remove_duplicates_preserve_order(input_list)\n",
    "print(\"List with duplicates removed:\", result)\n"
   ]
  },
  {
   "cell_type": "markdown",
   "id": "32f5f235",
   "metadata": {},
   "source": [
    "34. Implement a function to find the longest common prefix among a list of strings."
   ]
  },
  {
   "cell_type": "code",
   "execution_count": null,
   "id": "e4b8ef51",
   "metadata": {},
   "outputs": [],
   "source": [
    "def longest_common_prefix(strs):\n",
    "    if not strs:\n",
    "        return \"\"\n",
    "\n",
    "    # Find the minimum length string in the list\n",
    "    min_length = min(len(s) for s in strs)\n",
    "\n",
    "    # Compare characters at each index for all strings\n",
    "    for i in range(min_length):\n",
    "        char = strs[0][i]\n",
    "        if any(s[i] != char for s in strs[1:]):\n",
    "            return strs[0][:i]\n",
    "\n",
    "    # All characters match up to the minimum length\n",
    "    return strs[0][:min_length]\n",
    "\n",
    "# Test the function\n",
    "input_list = input(\"Enter a list of strings (space-separated): \").split()\n",
    "result = longest_common_prefix(input_list)\n",
    "print(\"Longest common prefix:\", result)\n"
   ]
  },
  {
   "cell_type": "markdown",
   "id": "2d816291",
   "metadata": {},
   "source": [
    "35. Write a program to check if a given number is a perfect square."
   ]
  },
  {
   "cell_type": "code",
   "execution_count": null,
   "id": "67168f90",
   "metadata": {},
   "outputs": [],
   "source": [
    "def is_perfect_square(number):\n",
    "    if number < 0:\n",
    "        return False\n",
    "    elif number == 0:\n",
    "        return True\n",
    "\n",
    "    # Binary search\n",
    "    left = 1\n",
    "    right = number\n",
    "\n",
    "    while left <= right:\n",
    "        mid = left + (right - left) // 2\n",
    "        square = mid * mid\n",
    "\n",
    "        if square == number:\n",
    "            return True\n",
    "        elif square < number:\n",
    "            left = mid + 1\n",
    "        else:\n",
    "            right = mid - 1\n",
    "\n",
    "    return False\n",
    "\n",
    "# Test the program\n",
    "input_number = int(input(\"Enter a number: \"))\n",
    "if is_perfect_square(input_number):\n",
    "    print(\"The number is a perfect square.\")\n",
    "else:\n",
    "    print(\"The number is not a perfect square.\")\n"
   ]
  },
  {
   "cell_type": "markdown",
   "id": "f92f3cee",
   "metadata": {},
   "source": [
    "36. Implement a function to calculate the product of all elements in a list."
   ]
  },
  {
   "cell_type": "code",
   "execution_count": null,
   "id": "11c11ba2",
   "metadata": {},
   "outputs": [],
   "source": [
    "def calculate_product(numbers):\n",
    "    product = 1\n",
    "\n",
    "    for num in numbers:\n",
    "        product *= num\n",
    "\n",
    "    return product\n",
    "\n",
    "# Test the function\n",
    "input_list = input(\"Enter a list of numbers (space-separated): \").split()\n",
    "numbers = [float(num) for num in input_list]\n",
    "product = calculate_product(numbers)\n",
    "print(\"Product of all elements:\", product)\n"
   ]
  },
  {
   "cell_type": "markdown",
   "id": "37ee3d8d",
   "metadata": {},
   "source": [
    "37. Write a Python program to reverse the order of words in a sentence while preserving the word order."
   ]
  },
  {
   "cell_type": "code",
   "execution_count": null,
   "id": "d9334f94",
   "metadata": {},
   "outputs": [],
   "source": [
    "def reverse_words(sentence):\n",
    "    words = sentence.split()\n",
    "    reversed_words = words[::-1]\n",
    "    reversed_sentence = ' '.join(reversed_words)\n",
    "    return reversed_sentence\n",
    "\n",
    "# Test the program\n",
    "input_sentence = input(\"Enter a sentence: \")\n",
    "reversed_sentence = reverse_words(input_sentence)\n",
    "print(\"Reversed sentence:\", reversed_sentence)\n"
   ]
  },
  {
   "cell_type": "markdown",
   "id": "c92bfba8",
   "metadata": {},
   "source": [
    "38. Implement a function to find the missing number in a given list of consecutive numbers."
   ]
  },
  {
   "cell_type": "code",
   "execution_count": null,
   "id": "81869661",
   "metadata": {},
   "outputs": [],
   "source": [
    "def find_missing(lst):\n",
    "    max = lst[0]\n",
    "    for i in lst :\n",
    "      if i > max :\n",
    "        max= i\n",
    "         \n",
    "    min = lst [0]\n",
    "    for i in lst :\n",
    "      if i < min:\n",
    "        min = i\n",
    "    missing = max+1\n",
    "    list1=[]\n",
    " \n",
    "    for _ in lst :\n",
    "       \n",
    "        max = max -1\n",
    "        if max not in lst :\n",
    "          list1.append(max)\n",
    "        \n",
    "         \n",
    " \n",
    "         \n",
    "         \n",
    "      \n",
    "    return list1\n",
    " \n",
    "# Driver code\n",
    "lst = [1,5,4,6,2,3, 7, 9, 10]\n",
    "print(find_missing(lst))"
   ]
  },
  {
   "cell_type": "markdown",
   "id": "613cb763",
   "metadata": {},
   "source": [
    "39. Write a program to find the sum of digits of a given number."
   ]
  },
  {
   "cell_type": "code",
   "execution_count": null,
   "id": "54b56871",
   "metadata": {},
   "outputs": [],
   "source": [
    "# Function to get sum of digits \n",
    "def getSum(n):\n",
    "    \n",
    "    sum = 0\n",
    "    for digit in str(n): \n",
    "      sum += int(digit)      \n",
    "    return sum\n",
    "   \n",
    "n = 12345\n",
    "print(getSum(n))"
   ]
  },
  {
   "cell_type": "markdown",
   "id": "371abd71",
   "metadata": {},
   "source": [
    "40. Implement a function to check if a given string is a valid palindrome considering case sensitivity."
   ]
  },
  {
   "cell_type": "code",
   "execution_count": null,
   "id": "8cff9f47",
   "metadata": {},
   "outputs": [],
   "source": [
    "def is_valid_palindrome(string):\n",
    "    # Remove non-alphanumeric characters and convert to lowercase\n",
    "    alphanumeric_string = ''.join(ch.lower() for ch in string if ch.isalnum())\n",
    "\n",
    "    # Check if the alphanumeric string is equal to its reverse\n",
    "    return alphanumeric_string == alphanumeric_string[::-1]\n",
    "\n",
    "# Test the function\n",
    "input_string = input(\"Enter a string: \")\n",
    "if is_valid_palindrome(input_string):\n",
    "    print(\"The string is a valid palindrome.\")\n",
    "else:\n",
    "    print(\"The string is not a valid palindrome.\")\n"
   ]
  },
  {
   "cell_type": "markdown",
   "id": "b81d71a7",
   "metadata": {},
   "source": [
    "41. Write a Python program to find the smallest missing positive integer in a list."
   ]
  },
  {
   "cell_type": "code",
   "execution_count": null,
   "id": "c83dfc7c",
   "metadata": {},
   "outputs": [],
   "source": [
    "def find_smallest_missing_positive(nums):\n",
    "    n = len(nums)\n",
    "\n",
    "    # Step 1: Move non-positive numbers to the leftmost part of the list\n",
    "    j = 0\n",
    "    for i in range(n):\n",
    "        if nums[i] <= 0:\n",
    "            nums[i], nums[j] = nums[j], nums[i]\n",
    "            j += 1\n",
    "\n",
    "    # Step 2: Mark visited numbers by making the corresponding index negative\n",
    "    for i in range(j, n):\n",
    "        num = abs(nums[i])\n",
    "        if num <= n - j:\n",
    "            nums[j + num - 1] = -abs(nums[j + num - 1])\n",
    "\n",
    "    # Step 3: Find the first index that contains a positive number\n",
    "    for i in range(j, n):\n",
    "        if nums[i] > 0:\n",
    "            return i - j + 1\n",
    "\n",
    "    # All positive numbers from 1 to n - j are present, so return n - j + 1\n",
    "    return n - j + 1\n",
    "\n",
    "# Test the program\n",
    "input_list = input(\"Enter a list of integers (space-separated): \").split()\n",
    "nums = [int(num) for num in input_list]\n",
    "smallest_missing_positive = find_smallest_missing_positive(nums)\n",
    "print(\"Smallest missing positive integer:\", smallest_missing_positive)\n"
   ]
  },
  {
   "cell_type": "markdown",
   "id": "fecf7dcd",
   "metadata": {},
   "source": [
    "42. Implement a function to find the longest palindrome substring in a given string."
   ]
  },
  {
   "cell_type": "code",
   "execution_count": null,
   "id": "87d89942",
   "metadata": {},
   "outputs": [],
   "source": [
    "def longest_palindrome(s):\n",
    "    n = len(s)\n",
    "    max_length = 0\n",
    "    start = 0\n",
    "\n",
    "    # Helper function to expand around the center\n",
    "    def expand_around_center(left, right):\n",
    "        while left >= 0 and right < n and s[left] == s[right]:\n",
    "            left -= 1\n",
    "            right += 1\n",
    "        return right - left - 1\n",
    "\n",
    "    for i in range(n):\n",
    "        len1 = expand_around_center(i, i)    # For odd-length palindromes\n",
    "        len2 = expand_around_center(i, i + 1)    # For even-length palindromes\n",
    "        length = max(len1, len2)\n",
    "\n",
    "        if length > max_length:\n",
    "            max_length = length\n",
    "            start = i - (length - 1) // 2\n",
    "\n",
    "    return s[start:start + max_length]\n",
    "\n",
    "# Test the function\n",
    "input_string = input(\"Enter a string: \")\n",
    "result = longest_palindrome(input_string)\n",
    "print(\"Longest palindrome substring:\", result)\n"
   ]
  },
  {
   "cell_type": "markdown",
   "id": "0d926a63",
   "metadata": {},
   "source": [
    "43. Write a program to find the number of occurrences of a given element in a list."
   ]
  },
  {
   "cell_type": "code",
   "execution_count": null,
   "id": "898a6f02",
   "metadata": {},
   "outputs": [],
   "source": [
    "def count_occurrences(lst, element):\n",
    "    count = 0\n",
    "    for item in lst:\n",
    "        if item == element:\n",
    "            count += 1\n",
    "    return count\n",
    "\n",
    "# Test the program\n",
    "input_list = input(\"Enter a list of elements (space-separated): \").split()\n",
    "element = input(\"Enter the element to count: \")\n",
    "occurrences = count_occurrences(input_list, element)\n",
    "print(\"Number of occurrences:\", occurrences)\n"
   ]
  },
  {
   "cell_type": "markdown",
   "id": "fa43442d",
   "metadata": {},
   "source": [
    "44. Implement a function to check if a given number is a perfect number."
   ]
  },
  {
   "cell_type": "code",
   "execution_count": null,
   "id": "967ca1e1",
   "metadata": {},
   "outputs": [],
   "source": [
    "num=int(input(\"Enter the number: \"))  \n",
    "sum_v=0  \n",
    "for i in range(1,num):  \n",
    "    if (num%i==0):  \n",
    "        sum_v=sum_v+i  \n",
    "if(sum_v==num):  \n",
    "    print(\"The entered number is a perfect number\")  \n",
    "else:  \n",
    "    print(\"The entered number is not a perfect number\")  "
   ]
  },
  {
   "cell_type": "code",
   "execution_count": null,
   "id": "4c705e15",
   "metadata": {},
   "outputs": [],
   "source": [
    "45. Write a Python program to remove all duplicates from a string."
   ]
  },
  {
   "cell_type": "code",
   "execution_count": null,
   "id": "ec371e89",
   "metadata": {},
   "outputs": [],
   "source": [
    "def remove_duplicates(string):\n",
    "    unique_chars = []\n",
    "    for char in string:\n",
    "        if char not in unique_chars:\n",
    "            unique_chars.append(char)\n",
    "    return ''.join(unique_chars)\n",
    "\n",
    "# Test the program\n",
    "input_string = input(\"Enter a string: \")\n",
    "result = remove_duplicates(input_string)\n",
    "print(\"String with duplicates removed:\", result)\n"
   ]
  },
  {
   "cell_type": "code",
   "execution_count": null,
   "id": "aa22532f",
   "metadata": {},
   "outputs": [],
   "source": [
    "46. Implement a function to find the first missing positive"
   ]
  },
  {
   "cell_type": "code",
   "execution_count": null,
   "id": "5c3a0303",
   "metadata": {},
   "outputs": [],
   "source": [
    "\n",
    "def first_missing_number(nums):\n",
    "    if len(nums) == 0:\n",
    "        return 1\n",
    "        \n",
    "    nums.sort()\n",
    "    smallest_int_num = 0\n",
    "    \n",
    "    for i in range(len(nums) - 1):\n",
    "\n",
    "        if nums[i] <= 0 or nums[i] == nums[i + 1]:\n",
    "            continue\n",
    "        else:\n",
    "            if nums[i + 1] - nums[i] != 1:\n",
    "                smallest_int_num = nums[i] + 1\n",
    "                return smallest_int_num    \n",
    "    if smallest_int_num == 0:\n",
    "        smallest_int_num = nums[-1] + 1\n",
    "    return smallest_int_num\n",
    "\n",
    "print(first_missing_number([2, 3, 7, 6, 8, -1, -10, 15, 16])) \n",
    "print(first_missing_number([1, 2, 4, -7, 6, 8, 1, -10, 15]))\n",
    "print(first_missing_number([1, 2, 3, 4, 5, 6, 7]))\n",
    "print(first_missing_number([-2, -3, -1, 1, 2, 3]))"
   ]
  },
  {
   "cell_type": "code",
   "execution_count": null,
   "id": "69eb74c9",
   "metadata": {},
   "outputs": [],
   "source": []
  }
 ],
 "metadata": {
  "kernelspec": {
   "display_name": "Python 3 (ipykernel)",
   "language": "python",
   "name": "python3"
  },
  "language_info": {
   "codemirror_mode": {
    "name": "ipython",
    "version": 3
   },
   "file_extension": ".py",
   "mimetype": "text/x-python",
   "name": "python",
   "nbconvert_exporter": "python",
   "pygments_lexer": "ipython3",
   "version": "3.10.9"
  }
 },
 "nbformat": 4,
 "nbformat_minor": 5
}
