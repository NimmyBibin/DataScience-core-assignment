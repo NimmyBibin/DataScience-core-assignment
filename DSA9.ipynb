{
 "cells": [
  {
   "cell_type": "markdown",
   "id": "4a7ef15e",
   "metadata": {},
   "source": [
    "<aside>\n",
    "💡 **Question 1**\n",
    "\n",
    "Given an integer `n`, return *`true` if it is a power of two. Otherwise, return `false`*.\n",
    "\n",
    "An integer `n` is a power of two, if there exists an integer `x` such that `n == 2x`.\n",
    "\n",
    "**Example 1:**\n",
    "Input: n = 1 \n",
    "\n",
    "Output: true\n",
    "\n",
    "**Example 2:**\n",
    "Input: n = 16 \n",
    "\n",
    "Output: true\n",
    "\n",
    "**Example 3:**\n",
    "Input: n = 3 \n",
    "\n",
    "Output: false\n",
    "\n",
    "</aside>"
   ]
  },
  {
   "cell_type": "code",
   "execution_count": 1,
   "id": "e928bb89",
   "metadata": {},
   "outputs": [
    {
     "name": "stdout",
     "output_type": "stream",
     "text": [
      "True\n",
      "True\n",
      "False\n"
     ]
    }
   ],
   "source": [
    "def isPowerOfTwo(n):\n",
    "    return n > 0 and (n & (n - 1)) == 0\n",
    "n = 1\n",
    "result = isPowerOfTwo(n)\n",
    "print(result)  # Output: True\n",
    "\n",
    "n = 16\n",
    "result = isPowerOfTwo(n)\n",
    "print(result)  # Output: True\n",
    "\n",
    "n = 3\n",
    "result = isPowerOfTwo(n)\n",
    "print(result)  # Output: False\n"
   ]
  },
  {
   "cell_type": "markdown",
   "id": "9676f401",
   "metadata": {},
   "source": [
    "<aside>\n",
    "💡 **Question 2**\n",
    "\n",
    "Given a number n, find the sum of the first natural numbers.\n",
    "\n",
    "**Example 1:**\n",
    "\n",
    "Input: n = 3 \n",
    "\n",
    "Output: 6\n",
    "\n",
    "**Example 2:**\n",
    "\n",
    "Input  : 5 \n",
    "\n",
    "Output : 15\n",
    "\n",
    "</aside>"
   ]
  },
  {
   "cell_type": "code",
   "execution_count": 2,
   "id": "26392d88",
   "metadata": {},
   "outputs": [
    {
     "name": "stdout",
     "output_type": "stream",
     "text": [
      "6\n",
      "15\n"
     ]
    }
   ],
   "source": [
    "def sumOfFirstNNumbers(n):\n",
    "    return n * (n + 1) // 2\n",
    "n = 3\n",
    "result = sumOfFirstNNumbers(n)\n",
    "print(result)  # Output: 6\n",
    "\n",
    "n = 5\n",
    "result = sumOfFirstNNumbers(n)\n",
    "print(result)  # Output: 15\n"
   ]
  },
  {
   "cell_type": "markdown",
   "id": "87c36935",
   "metadata": {},
   "source": [
    "<aside>\n",
    "💡 **Question 3**\n",
    "\n",
    "****Given a positive integer, N. Find the factorial of N. \n",
    "\n",
    "**Example 1:**\n",
    "\n",
    "Input: N = 5 \n",
    "\n",
    "Output: 120\n",
    "\n",
    "**Example 2:**\n",
    "\n",
    "Input: N = 4\n",
    "\n",
    "Output: 24\n",
    "\n",
    "</aside>"
   ]
  },
  {
   "cell_type": "code",
   "execution_count": 3,
   "id": "95fa5799",
   "metadata": {},
   "outputs": [
    {
     "name": "stdout",
     "output_type": "stream",
     "text": [
      "120\n",
      "24\n"
     ]
    }
   ],
   "source": [
    "def factorial(N):\n",
    "    result = 1\n",
    "    for i in range(1, N + 1):\n",
    "        result *= i\n",
    "    return result\n",
    "N = 5\n",
    "result = factorial(N)\n",
    "print(result)  # Output: 120\n",
    "\n",
    "N = 4\n",
    "result = factorial(N)\n",
    "print(result)  # Output: 24\n"
   ]
  },
  {
   "cell_type": "markdown",
   "id": "f49439ad",
   "metadata": {},
   "source": [
    "<aside>\n",
    "💡 **Question 4**\n",
    "\n",
    "Given a number N and a power P, the task is to find the exponent of this number raised to the given power, i.e. N^P.\n",
    "\n",
    "**Example 1 :** \n",
    "\n",
    "Input: N = 5, P = 2\n",
    "\n",
    "Output: 25\n",
    "\n",
    "**Example 2 :**\n",
    "Input: N = 2, P = 5\n",
    "\n",
    "Output: 32\n",
    "\n",
    "</aside>"
   ]
  },
  {
   "cell_type": "code",
   "execution_count": 4,
   "id": "aac08ce3",
   "metadata": {},
   "outputs": [
    {
     "name": "stdout",
     "output_type": "stream",
     "text": [
      "25\n",
      "32\n"
     ]
    }
   ],
   "source": [
    "def exponentiation(N, P):\n",
    "    result = N ** P\n",
    "    return result\n",
    "N = 5\n",
    "P = 2\n",
    "result = exponentiation(N, P)\n",
    "print(result)  # Output: 25\n",
    "\n",
    "N = 2\n",
    "P = 5\n",
    "result = exponentiation(N, P)\n",
    "print(result)  # Output: 32\n"
   ]
  },
  {
   "cell_type": "markdown",
   "id": "fed62ed3",
   "metadata": {},
   "source": [
    "<aside>\n",
    "💡 **Question 5**\n",
    "\n",
    "Given an array of integers **arr**, the task is to find maximum element of that array using recursion.\n",
    "\n",
    "**Example 1:**\n",
    "\n",
    "Input: arr = {1, 4, 3, -5, -4, 8, 6};\n",
    "Output: 8\n",
    "\n",
    "**Example 2:**\n",
    "\n",
    "Input: arr = {1, 4, 45, 6, 10, -8};\n",
    "Output: 45\n",
    "\n",
    "</aside>"
   ]
  },
  {
   "cell_type": "code",
   "execution_count": 5,
   "id": "a46a4ca3",
   "metadata": {},
   "outputs": [
    {
     "name": "stdout",
     "output_type": "stream",
     "text": [
      "8\n",
      "45\n"
     ]
    }
   ],
   "source": [
    "def find_max(arr, n):\n",
    "    if n == 1:\n",
    "        return arr[0]\n",
    "    else:\n",
    "        return max(arr[n-1], find_max(arr, n-1))\n",
    "arr = [1, 4, 3, -5, -4, 8, 6]\n",
    "n = len(arr)\n",
    "result = find_max(arr, n)\n",
    "print(result)  # Output: 8\n",
    "\n",
    "arr = [1, 4, 45, 6, 10, -8]\n",
    "n = len(arr)\n",
    "result = find_max(arr, n)\n",
    "print(result)  # Output: 45\n"
   ]
  },
  {
   "cell_type": "markdown",
   "id": "514e668a",
   "metadata": {},
   "source": [
    "<aside>\n",
    "💡 **Question 6**\n",
    "\n",
    "Given first term (a), common difference (d) and a integer N of the Arithmetic Progression series, the task is to find Nth term of the series.\n",
    "\n",
    "**Example 1:**\n",
    "\n",
    "Input : a = 2 d = 1 N = 5\n",
    "Output : 6\n",
    "The 5th term of the series is : 6\n",
    "\n",
    "**Example 2:**\n",
    "\n",
    "Input : a = 5 d = 2 N = 10\n",
    "Output : 23\n",
    "The 10th term of the series is : 23\n",
    "\n",
    "</aside>"
   ]
  },
  {
   "cell_type": "code",
   "execution_count": 6,
   "id": "60efce2b",
   "metadata": {},
   "outputs": [
    {
     "name": "stdout",
     "output_type": "stream",
     "text": [
      "6\n",
      "23\n"
     ]
    }
   ],
   "source": [
    "def find_nth_term(a, d, N):\n",
    "    return a + (N - 1) * d\n",
    "a = 2\n",
    "d = 1\n",
    "N = 5\n",
    "result = find_nth_term(a, d, N)\n",
    "print(result)  # Output: 6\n",
    "\n",
    "a = 5\n",
    "d = 2\n",
    "N = 10\n",
    "result = find_nth_term(a, d, N)\n",
    "print(result)  # Output: 23\n"
   ]
  },
  {
   "cell_type": "markdown",
   "id": "5d23d2e1",
   "metadata": {},
   "source": [
    "<aside>\n",
    "💡 **Question 7**\n",
    "\n",
    "Given a string S, the task is to write a program to print all permutations of a given string.\n",
    "\n",
    "**Example 1:**\n",
    "\n",
    "***Input:***\n",
    "\n",
    "*S = “ABC”*\n",
    "\n",
    "***Output:***\n",
    "\n",
    "*“ABC”, “ACB”, “BAC”, “BCA”, “CBA”, “CAB”*\n",
    "\n",
    "**Example 2:**\n",
    "\n",
    "***Input:***\n",
    "\n",
    "*S = “XY”*\n",
    "\n",
    "***Output:***\n",
    "\n",
    "*“XY”, “YX”*\n",
    "\n",
    "</aside>"
   ]
  },
  {
   "cell_type": "code",
   "execution_count": 7,
   "id": "b8cd8a3a",
   "metadata": {},
   "outputs": [
    {
     "name": "stdout",
     "output_type": "stream",
     "text": [
      "['ABC', 'ACB', 'BAC', 'BCA', 'CBA', 'CAB']\n",
      "['XY', 'YX']\n"
     ]
    }
   ],
   "source": [
    "def permute_string(S):\n",
    "    # Convert the string to a list to make it mutable\n",
    "    S = list(S)\n",
    "    result = []  # List to store the permutations\n",
    "\n",
    "    def backtrack(start):\n",
    "        if start == len(S) - 1:\n",
    "            # Reached the end of the string, add the permutation to the result\n",
    "            result.append(''.join(S))\n",
    "        else:\n",
    "            for i in range(start, len(S)):\n",
    "                # Swap the characters at indices start and i\n",
    "                S[start], S[i] = S[i], S[start]\n",
    "                # Recurse on the remaining substring\n",
    "                backtrack(start + 1)\n",
    "                # Backtrack by restoring the original order\n",
    "                S[start], S[i] = S[i], S[start]\n",
    "\n",
    "    # Start the backtracking from the beginning of the string\n",
    "    backtrack(0)\n",
    "\n",
    "    return result\n",
    "S = \"ABC\"\n",
    "result = permute_string(S)\n",
    "print(result)  # Output: ['ABC', 'ACB', 'BAC', 'BCA', 'CBA', 'CAB']\n",
    "\n",
    "S = \"XY\"\n",
    "result = permute_string(S)\n",
    "print(result)  # Output: ['XY', 'YX']\n"
   ]
  },
  {
   "cell_type": "markdown",
   "id": "4032d8f5",
   "metadata": {},
   "source": [
    "<aside>\n",
    "💡 **Question 8**\n",
    "\n",
    "Given an array, find a product of all array elements.\n",
    "\n",
    "**Example 1:**\n",
    "\n",
    "Input  : arr[] = {1, 2, 3, 4, 5}\n",
    "Output : 120\n",
    "**Example 2:**\n",
    "\n",
    "Input  : arr[] = {1, 6, 3}\n",
    "Output : 18\n",
    "\n",
    "</aside>"
   ]
  },
  {
   "cell_type": "code",
   "execution_count": 8,
   "id": "d74173ef",
   "metadata": {},
   "outputs": [
    {
     "name": "stdout",
     "output_type": "stream",
     "text": [
      "120\n",
      "18\n"
     ]
    }
   ],
   "source": [
    "def product_of_array(arr):\n",
    "    product = 1\n",
    "    for num in arr:\n",
    "        product *= num\n",
    "    return product\n",
    "arr = [1, 2, 3, 4, 5]\n",
    "result = product_of_array(arr)\n",
    "print(result)  # Output: 120\n",
    "\n",
    "arr = [1, 6, 3]\n",
    "result = product_of_array(arr)\n",
    "print(result)  # Output: 18\n"
   ]
  },
  {
   "cell_type": "code",
   "execution_count": null,
   "id": "cf2b0fdf",
   "metadata": {},
   "outputs": [],
   "source": []
  }
 ],
 "metadata": {
  "kernelspec": {
   "display_name": "Python 3 (ipykernel)",
   "language": "python",
   "name": "python3"
  },
  "language_info": {
   "codemirror_mode": {
    "name": "ipython",
    "version": 3
   },
   "file_extension": ".py",
   "mimetype": "text/x-python",
   "name": "python",
   "nbconvert_exporter": "python",
   "pygments_lexer": "ipython3",
   "version": "3.10.9"
  }
 },
 "nbformat": 4,
 "nbformat_minor": 5
}
