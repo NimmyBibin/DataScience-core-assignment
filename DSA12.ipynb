{
 "cells": [
  {
   "cell_type": "markdown",
   "id": "d2c41238",
   "metadata": {},
   "source": [
    "<aside>\n",
    "💡 **Question 1**\n",
    "\n",
    "Given a singly linked list, delete **middle** of the linked list. For example, if given linked list is 1->2->**3**->4->5 then linked list should be modified to 1->2->4->5.If there are **even** nodes, then there would be **two middle** nodes, we need to delete the second middle element. For example, if given linked list is 1->2->3->4->5->6 then it should be modified to 1->2->3->5->6.If the input linked list is NULL or has 1 node, then it should return NULL\n",
    "\n",
    "</aside>"
   ]
  },
  {
   "cell_type": "code",
   "execution_count": 2,
   "id": "58c29027",
   "metadata": {},
   "outputs": [],
   "source": [
    "class ListNode:\n",
    "    def __init__(self, val=0, next=None):\n",
    "        self.val = val\n",
    "        self.next = next\n",
    "\n",
    "def deleteMiddleNode(head):\n",
    "    if head is None or head.next is None:\n",
    "        return None\n",
    "\n",
    "    slow = head\n",
    "    fast = head\n",
    "    prev = None\n",
    "\n",
    "    while fast is not None and fast.next is not None:\n",
    "        fast = fast.next.next\n",
    "        prev = slow\n",
    "        slow = slow.next\n",
    "\n",
    "    prev.next = slow.next\n",
    "\n",
    "    return head\n",
    "# Example 1: 1->2->3->4->5\n",
    "head1 = ListNode(1)\n",
    "head1.next = ListNode(2)\n",
    "head1.next.next = ListNode(3)\n",
    "head1.next.next.next = ListNode(4)\n",
    "head1.next.next.next.next = ListNode(5)\n",
    "\n",
    "new_head1 = deleteMiddleNode(head1)\n",
    "# The middle node 3 should be deleted\n",
    "# After deletion, the modified linked list is 1->2->4->5\n",
    "\n",
    "# Example 2: 1->2->3->4->5->6\n",
    "head2 = ListNode(1)\n",
    "head2.next = ListNode(2)\n",
    "head2.next.next = ListNode(3)\n",
    "head2.next.next.next = ListNode(4)\n",
    "head2.next.next.next.next = ListNode(5)\n",
    "head2.next.next.next.next.next = ListNode(6)\n",
    "\n",
    "new_head2 = deleteMiddleNode(head2)\n",
    "# The second middle node 4 should be deleted\n",
    "# After deletion, the modified linked list is 1->2->3->5->6\n"
   ]
  },
  {
   "cell_type": "markdown",
   "id": "0143525e",
   "metadata": {},
   "source": [
    "<aside>\n",
    "💡 **Question 2**\n",
    "\n",
    "Given a linked list of **N** nodes. The task is to check if the linked list has a loop. Linked list can contain self loop.\n",
    "\n",
    "</aside>"
   ]
  },
  {
   "cell_type": "code",
   "execution_count": 3,
   "id": "e8e496bc",
   "metadata": {},
   "outputs": [],
   "source": [
    "class ListNode:\n",
    "    def __init__(self, val=0, next=None):\n",
    "        self.val = val\n",
    "        self.next = next\n",
    "\n",
    "def hasCycle(head):\n",
    "    if head is None or head.next is None:\n",
    "        return False\n",
    "\n",
    "    slow = head\n",
    "    fast = head.next\n",
    "\n",
    "    while slow != fast:\n",
    "        if fast is None or fast.next is None:\n",
    "            return False\n",
    "\n",
    "        slow = slow.next\n",
    "        fast = fast.next.next\n",
    "\n",
    "    return True\n"
   ]
  },
  {
   "cell_type": "code",
   "execution_count": 4,
   "id": "37e0f763",
   "metadata": {},
   "outputs": [
    {
     "name": "stdout",
     "output_type": "stream",
     "text": [
      "True\n",
      "False\n"
     ]
    }
   ],
   "source": [
    "# Example 1: 1->2->3->4->5->2 (loop exists)\n",
    "head1 = ListNode(1)\n",
    "head1.next = ListNode(2)\n",
    "head1.next.next = ListNode(3)\n",
    "head1.next.next.next = ListNode(4)\n",
    "head1.next.next.next.next = ListNode(5)\n",
    "head1.next.next.next.next.next = head1.next  # Create a loop to node 2\n",
    "\n",
    "print(hasCycle(head1))  # Output: True\n",
    "\n",
    "# Example 2: 1->2->3->4->5 (no loop)\n",
    "head2 = ListNode(1)\n",
    "head2.next = ListNode(2)\n",
    "head2.next.next = ListNode(3)\n",
    "head2.next.next.next = ListNode(4)\n",
    "head2.next.next.next.next = ListNode(5)\n",
    "\n",
    "print(hasCycle(head2))  # Output: False\n"
   ]
  },
  {
   "cell_type": "markdown",
   "id": "46daf4ec",
   "metadata": {},
   "source": [
    "<aside>\n",
    "💡 **Question 3**\n",
    "\n",
    "Given a linked list consisting of **L** nodes and given a number **N**. The task is to find the **N**th node from the end of the linked list.\n",
    "\n",
    "</aside>"
   ]
  },
  {
   "cell_type": "code",
   "execution_count": 5,
   "id": "3afbea20",
   "metadata": {},
   "outputs": [],
   "source": [
    "class ListNode:\n",
    "    def __init__(self, val=0, next=None):\n",
    "        self.val = val\n",
    "        self.next = next\n",
    "\n",
    "def hasCycle(head):\n",
    "    if head is None or head.next is None:\n",
    "        return False\n",
    "\n",
    "    slow = head\n",
    "    fast = head.next\n",
    "\n",
    "    while slow != fast:\n",
    "        if fast is None or fast.next is None:\n",
    "            return False\n",
    "\n",
    "        slow = slow.next\n",
    "        fast = fast.next.next\n",
    "\n",
    "    return True\n"
   ]
  },
  {
   "cell_type": "code",
   "execution_count": 6,
   "id": "68db9992",
   "metadata": {},
   "outputs": [
    {
     "name": "stdout",
     "output_type": "stream",
     "text": [
      "True\n",
      "False\n"
     ]
    }
   ],
   "source": [
    "# Example 1: 1->2->3->4->5->2 (loop exists)\n",
    "head1 = ListNode(1)\n",
    "head1.next = ListNode(2)\n",
    "head1.next.next = ListNode(3)\n",
    "head1.next.next.next = ListNode(4)\n",
    "head1.next.next.next.next = ListNode(5)\n",
    "head1.next.next.next.next.next = head1.next  # Create a loop to node 2\n",
    "\n",
    "print(hasCycle(head1))  # Output: True\n",
    "\n",
    "# Example 2: 1->2->3->4->5 (no loop)\n",
    "head2 = ListNode(1)\n",
    "head2.next = ListNode(2)\n",
    "head2.next.next = ListNode(3)\n",
    "head2.next.next.next = ListNode(4)\n",
    "head2.next.next.next.next = ListNode(5)\n",
    "\n",
    "print(hasCycle(head2))  # Output: False\n"
   ]
  },
  {
   "cell_type": "markdown",
   "id": "a94bcdfc",
   "metadata": {},
   "source": [
    "<aside>\n",
    "💡 **Question 4**\n",
    "\n",
    "Given a singly linked list of characters, write a function that returns true if the given list is a palindrome, else false.\n",
    "\n",
    "</aside>"
   ]
  },
  {
   "cell_type": "code",
   "execution_count": 7,
   "id": "07b23d2c",
   "metadata": {},
   "outputs": [],
   "source": [
    "class ListNode:\n",
    "    def __init__(self, val=0, next=None):\n",
    "        self.val = val\n",
    "        self.next = next\n",
    "\n",
    "def isPalindrome(head):\n",
    "    if head is None or head.next is None:\n",
    "        return True\n",
    "\n",
    "    slow = head\n",
    "    fast = head\n",
    "\n",
    "    # Move the slow pointer to the middle node\n",
    "    while fast is not None and fast.next is not None:\n",
    "        slow = slow.next\n",
    "        fast = fast.next.next\n",
    "\n",
    "    # Reverse the second half of the linked list\n",
    "    prev = None\n",
    "    curr = slow\n",
    "    while curr is not None:\n",
    "        next_node = curr.next\n",
    "        curr.next = prev\n",
    "        prev = curr\n",
    "        curr = next_node\n",
    "\n",
    "    # Compare the reversed second half with the first half\n",
    "    second_half = prev\n",
    "    first_half = head\n",
    "    while second_half is not None:\n",
    "        if first_half.val != second_half.val:\n",
    "            return False\n",
    "        first_half = first_half.next\n",
    "        second_half = second_half.next\n",
    "\n",
    "    return True\n"
   ]
  },
  {
   "cell_type": "code",
   "execution_count": 8,
   "id": "817c630a",
   "metadata": {},
   "outputs": [
    {
     "name": "stdout",
     "output_type": "stream",
     "text": [
      "True\n",
      "True\n",
      "False\n"
     ]
    }
   ],
   "source": [
    "# Example 1: a->b->c->b->a (palindrome)\n",
    "head1 = ListNode('a')\n",
    "head1.next = ListNode('b')\n",
    "head1.next.next = ListNode('c')\n",
    "head1.next.next.next = ListNode('b')\n",
    "head1.next.next.next.next = ListNode('a')\n",
    "\n",
    "print(isPalindrome(head1))  # Output: True\n",
    "\n",
    "# Example 2: a->b->c->c->b->a (palindrome)\n",
    "head2 = ListNode('a')\n",
    "head2.next = ListNode('b')\n",
    "head2.next.next = ListNode('c')\n",
    "head2.next.next.next = ListNode('c')\n",
    "head2.next.next.next.next = ListNode('b')\n",
    "head2.next.next.next.next.next = ListNode('a')\n",
    "\n",
    "print(isPalindrome(head2))  # Output: True\n",
    "\n",
    "# Example 3: a->b->c->d->e (not palindrome)\n",
    "head3 = ListNode('a')\n",
    "head3.next = ListNode('b')\n",
    "head3.next.next = ListNode('c')\n",
    "head3.next.next.next = ListNode('d')\n",
    "head3.next.next.next.next = ListNode('e')\n",
    "\n",
    "print(isPalindrome(head3))  # Output: False\n"
   ]
  },
  {
   "cell_type": "markdown",
   "id": "5c06e764",
   "metadata": {},
   "source": [
    "<aside>\n",
    "💡 **Question 5**\n",
    "\n",
    "Given a linked list of **N** nodes such that it may contain a loop.\n",
    "\n",
    "A loop here means that the last node of the link list is connected to the node at position X(1-based index). If the link list does not have any loop, X=0.\n",
    "\n",
    "Remove the loop from the linked list, if it is present, i.e. unlink the last node which is forming the loop.\n",
    "\n",
    "</aside>"
   ]
  },
  {
   "cell_type": "code",
   "execution_count": 9,
   "id": "0ec11a81",
   "metadata": {},
   "outputs": [],
   "source": [
    "class ListNode:\n",
    "    def __init__(self, val=0, next=None):\n",
    "        self.val = val\n",
    "        self.next = next\n",
    "\n",
    "def detectAndRemoveLoop(head):\n",
    "    if head is None or head.next is None:\n",
    "        return head\n",
    "\n",
    "    slow = head\n",
    "    fast = head\n",
    "\n",
    "    # Find the meeting point of the slow and fast pointers\n",
    "    while fast is not None and fast.next is not None:\n",
    "        slow = slow.next\n",
    "        fast = fast.next.next\n",
    "        if slow == fast:\n",
    "            break\n",
    "\n",
    "    # No loop is present, return the original linked list\n",
    "    if fast is None or fast.next is None:\n",
    "        return head\n",
    "\n",
    "    # Move the fast pointer to the head and advance both pointers\n",
    "    fast = head\n",
    "    while slow.next != fast.next:\n",
    "        slow = slow.next\n",
    "        fast = fast.next\n",
    "\n",
    "    # Remove the loop by setting the next pointer to None\n",
    "    slow.next = None\n",
    "\n",
    "    return head\n"
   ]
  },
  {
   "cell_type": "code",
   "execution_count": 10,
   "id": "05e067a2",
   "metadata": {},
   "outputs": [
    {
     "name": "stdout",
     "output_type": "stream",
     "text": [
      "1->2->3->4->5->NULL\n"
     ]
    }
   ],
   "source": [
    "# Example: 1->2->3->4->5->2 (loop exists)\n",
    "head = ListNode(1)\n",
    "head.next = ListNode(2)\n",
    "head.next.next = ListNode(3)\n",
    "head.next.next.next = ListNode(4)\n",
    "head.next.next.next.next = ListNode(5)\n",
    "head.next.next.next.next.next = head.next  # Create a loop to node 2\n",
    "\n",
    "new_head = detectAndRemoveLoop(head)\n",
    "# The loop from node 5 to node 2 should be removed\n",
    "# After removal, the modified linked list is 1->2->3->4->5\n",
    "\n",
    "# Print the modified linked list\n",
    "current = new_head\n",
    "while current is not None:\n",
    "    print(current.val, end=\"->\")\n",
    "    current = current.next\n",
    "print(\"NULL\")\n"
   ]
  },
  {
   "cell_type": "markdown",
   "id": "8ccc184a",
   "metadata": {},
   "source": [
    "<aside>\n",
    "💡 **Question 6**\n",
    "\n",
    "Given a linked list and two integers M and N. Traverse the linked list such that you retain M nodes then delete next N nodes, continue the same till end of the linked list.\n",
    "\n",
    "Difficulty Level: Rookie\n",
    "\n",
    "</aside>"
   ]
  },
  {
   "cell_type": "code",
   "execution_count": 12,
   "id": "004e1e8e",
   "metadata": {},
   "outputs": [],
   "source": [
    "class ListNode:\n",
    "    def __init__(self, val=0, next=None):\n",
    "        self.val = val\n",
    "        self.next = next\n",
    "\n",
    "def retainAndDelete(head, M, N):\n",
    "    if head is None:\n",
    "        return None\n",
    "\n",
    "    current = head\n",
    "\n",
    "    while current is not None:\n",
    "        # Traverse M nodes\n",
    "        for _ in range(M - 1):\n",
    "            if current.next is None:\n",
    "                return head\n",
    "            current = current.next\n",
    "\n",
    "        # Store the starting point of M nodes to be retained\n",
    "        retain_start = current\n",
    "\n",
    "        # Traverse N nodes\n",
    "        for _ in range(N):\n",
    "            if current.next is None:\n",
    "                break\n",
    "            current = current.next\n",
    "\n",
    "        # Store the next position after N nodes to be deleted\n",
    "        next_start = current.next if current else None\n",
    "\n",
    "        # Link the previous M nodes to the next position\n",
    "        retain_start.next = next_start\n",
    "\n",
    "        # Update current to the next position\n",
    "        current = next_start\n",
    "\n",
    "    return head\n"
   ]
  },
  {
   "cell_type": "code",
   "execution_count": 13,
   "id": "19c178fd",
   "metadata": {},
   "outputs": [
    {
     "name": "stdout",
     "output_type": "stream",
     "text": [
      "1->2->6->7->NULL\n"
     ]
    }
   ],
   "source": [
    "# Example: 1->2->3->4->5->6->7->8, M=2, N=3\n",
    "head = ListNode(1)\n",
    "head.next = ListNode(2)\n",
    "head.next.next = ListNode(3)\n",
    "head.next.next.next = ListNode(4)\n",
    "head.next.next.next.next = ListNode(5)\n",
    "head.next.next.next.next.next = ListNode(6)\n",
    "head.next.next.next.next.next.next = ListNode(7)\n",
    "head.next.next.next.next.next.next.next = ListNode(8)\n",
    "\n",
    "new_head = retainAndDelete(head, 2, 3)\n",
    "# Retain 2 nodes, delete the next 3 nodes\n",
    "# After modification, the linked list is 1->2->6->7\n",
    "\n",
    "# Print the modified linked list\n",
    "current = new_head\n",
    "while current is not None:\n",
    "    print(current.val, end=\"->\")\n",
    "    current = current.next\n",
    "print(\"NULL\")\n"
   ]
  },
  {
   "cell_type": "markdown",
   "id": "d0a7078d",
   "metadata": {},
   "source": [
    "<aside>\n",
    "💡 **Question 7**\n",
    "\n",
    "Given two linked lists, insert nodes of second list into first list at alternate positions of first list.\n",
    "For example, if first list is 5->7->17->13->11 and second is 12->10->2->4->6, the first list should become 5->12->7->10->17->2->13->4->11->6 and second list should become empty. The nodes of second list should only be inserted when there are positions available. For example, if the first list is 1->2->3 and second list is 4->5->6->7->8, then first list should become 1->4->2->5->3->6 and second list to 7->8.\n",
    "\n",
    "Use of extra space is not allowed (Not allowed to create additional nodes), i.e., insertion must be done in-place. Expected time complexity is O(n) where n is number of nodes in first list.\n",
    "\n",
    "</aside>"
   ]
  },
  {
   "cell_type": "code",
   "execution_count": 14,
   "id": "6bc97433",
   "metadata": {},
   "outputs": [],
   "source": [
    "class ListNode:\n",
    "    def __init__(self, val=0, next=None):\n",
    "        self.val = val\n",
    "        self.next = next\n",
    "\n",
    "def insertAtAlternatePositions(first_head, second_head):\n",
    "    if first_head is None:\n",
    "        return second_head\n",
    "    if second_head is None:\n",
    "        return first_head\n",
    "\n",
    "    first_current = first_head\n",
    "    second_current = second_head\n",
    "\n",
    "    while first_current is not None and second_current is not None:\n",
    "        first_next = first_current.next\n",
    "        second_next = second_current.next\n",
    "\n",
    "        second_current.next = first_next\n",
    "        first_current.next = second_current\n",
    "\n",
    "        first_current = first_next\n",
    "        second_current = second_next\n",
    "\n",
    "    # Append remaining nodes of the second list, if any\n",
    "    if second_current is not None:\n",
    "        first_current.next = second_current\n",
    "\n",
    "    return first_head\n"
   ]
  },
  {
   "cell_type": "code",
   "execution_count": 15,
   "id": "46e2f919",
   "metadata": {},
   "outputs": [
    {
     "name": "stdout",
     "output_type": "stream",
     "text": [
      "5->12->7->10->17->2->13->4->11->6->NULL\n"
     ]
    }
   ],
   "source": [
    "# Example: 5->7->17->13->11 and 12->10->2->4->6\n",
    "first_head = ListNode(5)\n",
    "first_head.next = ListNode(7)\n",
    "first_head.next.next = ListNode(17)\n",
    "first_head.next.next.next = ListNode(13)\n",
    "first_head.next.next.next.next = ListNode(11)\n",
    "\n",
    "second_head = ListNode(12)\n",
    "second_head.next = ListNode(10)\n",
    "second_head.next.next = ListNode(2)\n",
    "second_head.next.next.next = ListNode(4)\n",
    "second_head.next.next.next.next = ListNode(6)\n",
    "\n",
    "new_first_head = insertAtAlternatePositions(first_head, second_head)\n",
    "# After insertion, the first list is 5->12->7->10->17->2->13->4->11->6\n",
    "# The second list becomes empty\n",
    "\n",
    "# Print the modified first list\n",
    "current = new_first_head\n",
    "while current is not None:\n",
    "    print(current.val, end=\"->\")\n",
    "    current = current.next\n",
    "print(\"NULL\")\n"
   ]
  },
  {
   "cell_type": "markdown",
   "id": "06f78285",
   "metadata": {},
   "source": [
    "<aside>\n",
    "💡 **Question 8**\n",
    "\n",
    "Given a singly linked list, find if the linked list is [circular](https://www.geeksforgeeks.org/circular-linked-list/amp/) or not.\n",
    "\n",
    "</aside>"
   ]
  },
  {
   "cell_type": "code",
   "execution_count": 16,
   "id": "e8d050c6",
   "metadata": {},
   "outputs": [],
   "source": [
    "class ListNode:\n",
    "    def __init__(self, val=0, next=None):\n",
    "        self.val = val\n",
    "        self.next = next\n",
    "\n",
    "def isCircular(head):\n",
    "    if head is None or head.next is None:\n",
    "        return False\n",
    "\n",
    "    slow = head\n",
    "    fast = head.next\n",
    "\n",
    "    while fast is not None and fast.next is not None:\n",
    "        if slow == fast:\n",
    "            return True\n",
    "        slow = slow.next\n",
    "        fast = fast.next.next\n",
    "\n",
    "    return False\n"
   ]
  },
  {
   "cell_type": "code",
   "execution_count": 17,
   "id": "36c35743",
   "metadata": {},
   "outputs": [
    {
     "name": "stdout",
     "output_type": "stream",
     "text": [
      "True\n",
      "False\n"
     ]
    }
   ],
   "source": [
    "# Example 1: 1->2->3->4->5->2 (circular)\n",
    "head1 = ListNode(1)\n",
    "head1.next = ListNode(2)\n",
    "head1.next.next = ListNode(3)\n",
    "head1.next.next.next = ListNode(4)\n",
    "head1.next.next.next.next = ListNode(5)\n",
    "head1.next.next.next.next.next = head1.next  # Create a loop to node 2\n",
    "\n",
    "print(isCircular(head1))  # Output: True\n",
    "\n",
    "# Example 2: 1->2->3->4->5 (not circular)\n",
    "head2 = ListNode(1)\n",
    "head2.next = ListNode(2)\n",
    "head2.next.next = ListNode(3)\n",
    "head2.next.next.next = ListNode(4)\n",
    "head2.next.next.next.next = ListNode(5)\n",
    "\n",
    "print(isCircular(head2))  # Output: False\n"
   ]
  },
  {
   "cell_type": "code",
   "execution_count": null,
   "id": "888ed167",
   "metadata": {},
   "outputs": [],
   "source": []
  }
 ],
 "metadata": {
  "kernelspec": {
   "display_name": "Python 3 (ipykernel)",
   "language": "python",
   "name": "python3"
  },
  "language_info": {
   "codemirror_mode": {
    "name": "ipython",
    "version": 3
   },
   "file_extension": ".py",
   "mimetype": "text/x-python",
   "name": "python",
   "nbconvert_exporter": "python",
   "pygments_lexer": "ipython3",
   "version": "3.10.9"
  }
 },
 "nbformat": 4,
 "nbformat_minor": 5
}
