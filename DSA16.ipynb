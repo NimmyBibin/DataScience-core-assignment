{
 "cells": [
  {
   "cell_type": "markdown",
   "id": "44743d9d",
   "metadata": {},
   "source": [
    "<aside>\n",
    "💡 **Question 1**\n",
    "\n",
    "Given an array, for each element find the value of the nearest element to the right which is having a frequency greater than that of the current element. If there does not exist an answer for a position, then make the value ‘-1’.\n",
    "\n",
    "</aside>"
   ]
  },
  {
   "cell_type": "code",
   "execution_count": null,
   "id": "b9e431e1",
   "metadata": {},
   "outputs": [],
   "source": [
    "def find_nearest_greater_frequency(arr):\n",
    "    frequency = {}\n",
    "    stack = []\n",
    "    result = [-1] * len(arr)\n",
    "\n",
    "    for i in range(len(arr) - 1, -1, -1):\n",
    "        while stack and frequency[arr[i]] >= frequency[stack[-1]]:\n",
    "            stack.pop()\n",
    "\n",
    "        if stack:\n",
    "            result[i] = stack[-1]\n",
    "\n",
    "        stack.append(arr[i])\n",
    "        frequency[arr[i]] = frequency.get(arr[i], 0) + 1\n",
    "\n",
    "    return result\n"
   ]
  },
  {
   "cell_type": "code",
   "execution_count": null,
   "id": "72084eda",
   "metadata": {
    "scrolled": true
   },
   "outputs": [],
   "source": [
    "array = [1, 1, 2, 3, 4, 2, 1]\n",
    "result = find_nearest_greater_frequency(array)\n",
    "print(\"Result:\", result)\n"
   ]
  },
  {
   "cell_type": "markdown",
   "id": "0de16e87",
   "metadata": {},
   "source": [
    "<aside>\n",
    "💡 **Question 2**\n",
    "\n",
    "Given a stack of integers, sort it in ascending order using another temporary stack.\n",
    "\n",
    "**Examples:**\n",
    "\n",
    "</aside>"
   ]
  },
  {
   "cell_type": "code",
   "execution_count": 1,
   "id": "d0abebd6",
   "metadata": {},
   "outputs": [
    {
     "name": "stdout",
     "output_type": "stream",
     "text": [
      "Sorted Stack: [98, 92, 34, 31, 23, 3]\n"
     ]
    }
   ],
   "source": [
    "def sort_stack(stack):\n",
    "    temp_stack = []\n",
    "\n",
    "    while stack:\n",
    "        temp = stack.pop()\n",
    "\n",
    "        while temp_stack and temp_stack[-1] > temp:\n",
    "            stack.append(temp_stack.pop())\n",
    "\n",
    "        temp_stack.append(temp)\n",
    "\n",
    "    # Reverse the elements to get ascending order\n",
    "    while temp_stack:\n",
    "        stack.append(temp_stack.pop())\n",
    "\n",
    "# Example usage:\n",
    "stack = [34, 3, 31, 98, 92, 23]\n",
    "sort_stack(stack)\n",
    "print(\"Sorted Stack:\", stack)\n"
   ]
  },
  {
   "cell_type": "markdown",
   "id": "7828ba54",
   "metadata": {},
   "source": [
    "<aside>\n",
    "💡 **Question 3**\n",
    "\n",
    "Given a stack with **push()**, **pop()**, and **empty()** operations, The task is to delete the **middle** element ****of it without using any additional data structure.\n",
    "\n",
    "Input  : Stack[] = [1, 2, 3, 4, 5]\n",
    "\n",
    "Output : Stack[] = [1, 2, 4, 5]\n",
    "\n",
    "Input  : Stack[] = [1, 2, 3, 4, 5, 6]\n",
    "\n",
    "Output : Stack[] = [1, 2, 4, 5, 6]\n",
    "\n",
    "</aside>"
   ]
  },
  {
   "cell_type": "code",
   "execution_count": 2,
   "id": "b77b69bd",
   "metadata": {},
   "outputs": [
    {
     "name": "stdout",
     "output_type": "stream",
     "text": [
      "Modified Stack: [1, 3, 4, 5]\n"
     ]
    }
   ],
   "source": [
    "def delete_middle(stack):\n",
    "    if len(stack) == 0:\n",
    "        return\n",
    "\n",
    "    if len(stack) == 1 or len(stack) == 2:\n",
    "        stack.pop()\n",
    "        return\n",
    "\n",
    "    temp = stack.pop()\n",
    "    delete_middle(stack)\n",
    "    stack.append(temp)\n",
    "\n",
    "# Example usage:\n",
    "stack = [1, 2, 3, 4, 5]\n",
    "delete_middle(stack)\n",
    "print(\"Modified Stack:\", stack)\n"
   ]
  },
  {
   "cell_type": "markdown",
   "id": "f4845b64",
   "metadata": {},
   "source": [
    "<aside>\n",
    "💡 **Question 4**\n",
    "\n",
    "Given a Queue consisting of first **n** natural numbers (in random order). The task is to check whether the given Queue elements can be arranged in increasing order in another Queue using a stack. The operation allowed are:\n",
    "\n",
    "1. Push and pop elements from the stack\n",
    "2. Pop (Or Dequeue) from the given Queue.\n",
    "3. Push (Or Enqueue) in the another Queue.\n",
    "</aside>"
   ]
  },
  {
   "cell_type": "code",
   "execution_count": 3,
   "id": "c8458b05",
   "metadata": {},
   "outputs": [
    {
     "name": "stdout",
     "output_type": "stream",
     "text": [
      "Can be arranged in increasing order: True\n"
     ]
    }
   ],
   "source": [
    "from queue import Queue\n",
    "\n",
    "def check_queue_order(given_queue):\n",
    "    expected = 1\n",
    "    stack = []\n",
    "    other_queue = Queue()\n",
    "\n",
    "    while not given_queue.empty():\n",
    "        if given_queue.queue[0] == expected:\n",
    "            given_queue.get()\n",
    "            expected += 1\n",
    "        elif stack and stack[-1] == expected:\n",
    "            stack.pop()\n",
    "            expected += 1\n",
    "        else:\n",
    "            other_queue.put(given_queue.get())\n",
    "\n",
    "    while not other_queue.empty():\n",
    "        if other_queue.queue[0] == expected:\n",
    "            other_queue.get()\n",
    "            expected += 1\n",
    "        elif stack and stack[-1] == expected:\n",
    "            stack.pop()\n",
    "            expected += 1\n",
    "        else:\n",
    "            return False\n",
    "\n",
    "    return given_queue.empty() and other_queue.empty()\n",
    "\n",
    "# Example usage:\n",
    "given_queue = Queue()\n",
    "given_queue.put(3)\n",
    "given_queue.put(1)\n",
    "given_queue.put(2)\n",
    "given_queue.put(4)\n",
    "given_queue.put(5)\n",
    "\n",
    "result = check_queue_order(given_queue)\n",
    "print(\"Can be arranged in increasing order:\", result)\n"
   ]
  },
  {
   "cell_type": "markdown",
   "id": "d43dd8f3",
   "metadata": {},
   "source": [
    "<aside>\n",
    "💡 **Question 5**\n",
    "\n",
    "Given a number , write a program to reverse this number using stack.\n",
    "\n",
    "</aside>"
   ]
  },
  {
   "cell_type": "code",
   "execution_count": 4,
   "id": "f5bed40c",
   "metadata": {},
   "outputs": [
    {
     "name": "stdout",
     "output_type": "stream",
     "text": [
      "Reversed Number: 54321\n"
     ]
    }
   ],
   "source": [
    "def reverse_number(number):\n",
    "    number_str = str(number)\n",
    "    stack = []\n",
    "\n",
    "    # Push each character onto the stack\n",
    "    for char in number_str:\n",
    "        stack.append(char)\n",
    "\n",
    "    reversed_str = \"\"\n",
    "\n",
    "    # Pop each character from the stack and append it to the new string\n",
    "    while stack:\n",
    "        reversed_str += stack.pop()\n",
    "\n",
    "    # Convert the new string back to an integer\n",
    "    reversed_number = int(reversed_str)\n",
    "\n",
    "    return reversed_number\n",
    "\n",
    "# Example usage:\n",
    "number = 12345\n",
    "reversed_number = reverse_number(number)\n",
    "print(\"Reversed Number:\", reversed_number)\n"
   ]
  },
  {
   "cell_type": "markdown",
   "id": "96ff7ac6",
   "metadata": {},
   "source": [
    "<aside>\n",
    "💡 **Question 6**\n",
    "\n",
    "Given an integer k and a **[queue](https://www.geeksforgeeks.org/queue-data-structure/)** of integers, The task is to reverse the order of the first **k** elements of the queue, leaving the other elements in the same relative order.\n",
    "\n",
    "Only following standard operations are allowed on queue.\n",
    "\n",
    "- **enqueue(x) :** Add an item x to rear of queue\n",
    "- **dequeue() :** Remove an item from front of queue\n",
    "- **size() :** Returns number of elements in queue.\n",
    "- **front() :** Finds front item.\n",
    "</aside>"
   ]
  },
  {
   "cell_type": "code",
   "execution_count": null,
   "id": "8d742059",
   "metadata": {},
   "outputs": [],
   "source": [
    "from queue import Queue\n",
    "\n",
    "def reverse_first_k_elements(queue, k):\n",
    "    stack = []\n",
    "    \n",
    "    # Dequeue the first k elements and push them onto the stack\n",
    "    for _ in range(k):\n",
    "        stack.append(queue.get())\n",
    "    \n",
    "    # Dequeue the remaining elements and enqueue them back into the queue\n",
    "    while not queue.empty():\n",
    "        queue.put(queue.get())\n",
    "    \n",
    "    # Pop each element from the stack and enqueue it back into the queue\n",
    "    while stack:\n",
    "        queue.put(stack.pop())\n",
    "    \n",
    "    return queue\n",
    "\n",
    "# Example usage:\n",
    "queue = Queue()\n",
    "queue.put(1)\n",
    "queue.put(2)\n",
    "queue.put(3)\n",
    "queue.put(4)\n",
    "queue.put(5)\n",
    "k = 3\n",
    "\n",
    "reversed_queue = reverse_first_k_elements(queue, k)\n",
    "\n",
    "# Printing the reversed queue\n",
    "while not reversed_queue.empty():\n",
    "    print(reversed_queue.get())\n"
   ]
  },
  {
   "cell_type": "markdown",
   "id": "91804bdf",
   "metadata": {},
   "source": [
    "<aside>\n",
    "💡 **Question 7**\n",
    "\n",
    "Given a sequence of n strings, the task is to check if any two similar words come together and then destroy each other then print the number of words left in the sequence after this pairwise destruction.\n",
    "\n",
    "</aside>"
   ]
  },
  {
   "cell_type": "code",
   "execution_count": null,
   "id": "83484ce1",
   "metadata": {},
   "outputs": [],
   "source": [
    "def count_remaining_words(sequence):\n",
    "    stack = []\n",
    "\n",
    "    for word in sequence:\n",
    "        if not stack or stack[-1] != word:\n",
    "            stack.append(word)\n",
    "        else:\n",
    "            stack.pop()\n",
    "\n",
    "    return len(stack)\n",
    "\n",
    "# Example usage:\n",
    "sequence = [\"hello\", \"world\", \"world\", \"destroy\", \"destroy\", \"destroy\", \"destroy\", \"destroy\", \"stack\"]\n",
    "remaining_words = count_remaining_words(sequence)\n",
    "print(\"Number of words left:\", remaining_words)\n"
   ]
  },
  {
   "cell_type": "markdown",
   "id": "d5bc3918",
   "metadata": {},
   "source": [
    "<aside>\n",
    "💡 **Question 8**\n",
    "\n",
    "Given an array of integers, the task is to find the maximum absolute difference between the nearest left and the right smaller element of every element in the array.\n",
    "\n",
    "**Note:** If there is no smaller element on right side or left side of any element then we take zero as the smaller element. For example for the leftmost element, the nearest smaller element on the left side is considered as 0. Similarly, for rightmost elements, the smaller element on the right side is considered as 0.\n",
    "\n",
    "</aside>"
   ]
  },
  {
   "cell_type": "code",
   "execution_count": null,
   "id": "462b5b81",
   "metadata": {},
   "outputs": [],
   "source": [
    "def max_absolute_difference(arr):\n",
    "    left_stack = []\n",
    "    right_stack = []\n",
    "    left_smaller = [0] * len(arr)\n",
    "    right_smaller = [0] * len(arr)\n",
    "    max_diff = 0\n",
    "\n",
    "    # Calculate nearest left smaller elements\n",
    "    for i in range(len(arr)):\n",
    "        while left_stack and arr[left_stack[-1]] >= arr[i]:\n",
    "            left_stack.pop()\n",
    "        if left_stack:\n",
    "            left_smaller[i] = left_stack[-1]\n",
    "        left_stack.append(i)\n",
    "\n",
    "    # Calculate nearest right smaller elements\n",
    "    for i in range(len(arr) - 1, -1, -1):\n",
    "        while right_stack and arr[right_stack[-1]] >= arr[i]:\n",
    "            right_stack.pop()\n",
    "        if right_stack:\n",
    "            right_smaller[i] = right_stack[-1]\n",
    "        right_stack.append(i)\n",
    "\n",
    "    # Calculate maximum absolute difference\n",
    "    for i in range(len(arr)):\n",
    "        diff = abs(right_smaller[i] - left_smaller[i])\n",
    "        max_diff = max(max_diff, diff)\n",
    "\n",
    "    return max_diff\n",
    "\n",
    "# Example usage:\n",
    "array = [2, 1, 8, 7, 6, 5]\n",
    "max_diff = max_absolute_difference(array)\n",
    "print(\"Maximum absolute difference:\", max_diff)\n"
   ]
  },
  {
   "cell_type": "code",
   "execution_count": null,
   "id": "67bf0df0",
   "metadata": {},
   "outputs": [],
   "source": []
  }
 ],
 "metadata": {
  "kernelspec": {
   "display_name": "Python 3 (ipykernel)",
   "language": "python",
   "name": "python3"
  },
  "language_info": {
   "codemirror_mode": {
    "name": "ipython",
    "version": 3
   },
   "file_extension": ".py",
   "mimetype": "text/x-python",
   "name": "python",
   "nbconvert_exporter": "python",
   "pygments_lexer": "ipython3",
   "version": "3.10.9"
  }
 },
 "nbformat": 4,
 "nbformat_minor": 5
}
