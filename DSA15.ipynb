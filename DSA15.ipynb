{
 "cells": [
  {
   "cell_type": "markdown",
   "id": "ed092dad",
   "metadata": {},
   "source": [
    "<aside>\n",
    "💡 **Question 1**\n",
    "\n",
    "Given an array **arr[ ]** of size **N** having elements, the task is to find the next greater element for each element of the array in order of their appearance in the array.Next greater element of an element in the array is the nearest element on the right which is greater than the current element.If there does not exist next greater of current element, then next greater element for current element is -1. For example, next greater of the last element is always -1.\n",
    "\n",
    "</aside>"
   ]
  },
  {
   "cell_type": "code",
   "execution_count": 1,
   "id": "4184701e",
   "metadata": {},
   "outputs": [],
   "source": [
    "def nextGreaterElements(arr):\n",
    "    stack = []\n",
    "    result = [-1] * len(arr)\n",
    "\n",
    "    for i in range(len(arr) - 1, -1, -1):\n",
    "        while stack and arr[i] >= arr[stack[-1]]:\n",
    "            stack.pop()\n",
    "\n",
    "        if stack:\n",
    "            result[i] = arr[stack[-1]]\n",
    "\n",
    "        stack.append(i)\n",
    "\n",
    "    return result\n"
   ]
  },
  {
   "cell_type": "code",
   "execution_count": 2,
   "id": "230d2b44",
   "metadata": {},
   "outputs": [
    {
     "name": "stdout",
     "output_type": "stream",
     "text": [
      "[4, 7, 7, 8, 8, 10, -1]\n"
     ]
    }
   ],
   "source": [
    "# Example: [3, 4, 2, 7, 5, 8, 10]\n",
    "arr = [3, 4, 2, 7, 5, 8, 10]\n",
    "\n",
    "result = nextGreaterElements(arr)\n",
    "# The next greater element for each element:\n",
    "# 3: 4\n",
    "# 4: 7\n",
    "# 2: 7\n",
    "# 7: 8\n",
    "# 5: 8\n",
    "# 8: 10\n",
    "# 10: -1 (no next greater element)\n",
    "\n",
    "print(result)  # Output: [4, 7, 7, 8, 8, 10, -1]\n"
   ]
  },
  {
   "cell_type": "markdown",
   "id": "da52d917",
   "metadata": {},
   "source": [
    "<aside>\n",
    "💡 **Question 2**\n",
    "\n",
    "Given an array **a** of integers of length **n**, find the nearest smaller number for every element such that the smaller element is on left side.If no small element present on the left print -1.\n",
    "\n",
    "</aside>"
   ]
  },
  {
   "cell_type": "code",
   "execution_count": 3,
   "id": "954a0d59",
   "metadata": {},
   "outputs": [],
   "source": [
    "def nearestSmallerNumbers(arr):\n",
    "    stack = []\n",
    "    result = [-1] * len(arr)\n",
    "\n",
    "    for i in range(len(arr)):\n",
    "        while stack and arr[i] <= arr[stack[-1]]:\n",
    "            stack.pop()\n",
    "\n",
    "        if stack:\n",
    "            result[i] = arr[stack[-1]]\n",
    "\n",
    "        stack.append(i)\n",
    "\n",
    "    return result\n"
   ]
  },
  {
   "cell_type": "code",
   "execution_count": 4,
   "id": "41acbe0d",
   "metadata": {
    "scrolled": true
   },
   "outputs": [
    {
     "name": "stdout",
     "output_type": "stream",
     "text": [
      "[-1, 4, -1, 2, 2]\n"
     ]
    }
   ],
   "source": [
    "# Example: [4, 5, 2, 10, 8]\n",
    "arr = [4, 5, 2, 10, 8]\n",
    "\n",
    "result = nearestSmallerNumbers(arr)\n",
    "# The nearest smaller number on the left for each element:\n",
    "# 4: -1 (no smaller element on the left)\n",
    "# 5: 4\n",
    "# 2: -1 (no smaller element on the left)\n",
    "# 10: 2\n",
    "# 8: 2\n",
    "\n",
    "print(result)  # Output: [-1, 4, -1, 2, 2]\n"
   ]
  },
  {
   "cell_type": "markdown",
   "id": "213b4684",
   "metadata": {},
   "source": [
    "<aside>\n",
    "💡 **Question 3**\n",
    "\n",
    "Implement a Stack using two queues **q1** and **q2**.\n",
    "\n",
    "</aside>"
   ]
  },
  {
   "cell_type": "code",
   "execution_count": 6,
   "id": "1e47ceab",
   "metadata": {},
   "outputs": [],
   "source": [
    "class Stack:\n",
    "    def __init__(self):\n",
    "        self.q1 = []\n",
    "        self.q2 = []\n",
    "\n",
    "    def push(self, value):\n",
    "        if not self.q1:\n",
    "            self.q1.append(value)\n",
    "        else:\n",
    "            self.q2.append(value)\n",
    "\n",
    "    def pop(self):\n",
    "        if not self.q1 and not self.q2:\n",
    "            return None\n",
    "\n",
    "        if self.q1:\n",
    "            while len(self.q1) > 1:\n",
    "                self.q2.append(self.q1.pop(0))\n",
    "            return self.q1.pop(0)\n",
    "        else:\n",
    "            while len(self.q2) > 1:\n",
    "                self.q1.append(self.q2.pop(0))\n",
    "            return self.q2.pop(0)\n",
    "\n",
    "    def top(self):\n",
    "        if not self.q1 and not self.q2:\n",
    "            return None\n",
    "\n",
    "        if self.q1:\n",
    "            while len(self.q1) > 1:\n",
    "                self.q2.append(self.q1.pop(0))\n",
    "            value = self.q1[0]\n",
    "            self.q2.append(self.q1.pop(0))\n",
    "        else:\n",
    "            while len(self.q2) > 1:\n",
    "                self.q1.append(self.q2.pop(0))\n",
    "            value = self.q2[0]\n",
    "            self.q1.append(self.q2.pop(0))\n",
    "\n",
    "        return value\n",
    "\n",
    "    def isEmpty(self):\n",
    "        return len(self.q1) == 0 and len(self.q2) == 0\n"
   ]
  },
  {
   "cell_type": "code",
   "execution_count": 7,
   "id": "dc98b76b",
   "metadata": {
    "scrolled": true
   },
   "outputs": [
    {
     "name": "stdout",
     "output_type": "stream",
     "text": [
      "1\n",
      "3\n",
      "False\n",
      "3\n",
      "2\n",
      "4\n",
      "True\n"
     ]
    }
   ],
   "source": [
    "stack = Stack()\n",
    "stack.push(1)\n",
    "stack.push(2)\n",
    "stack.push(3)\n",
    "\n",
    "print(stack.pop())  # Output: 3\n",
    "print(stack.top())  # Output: 2\n",
    "print(stack.isEmpty())  # Output: False\n",
    "\n",
    "stack.push(4)\n",
    "print(stack.pop())  # Output: 4\n",
    "print(stack.pop())  # Output: 2\n",
    "print(stack.pop())  # Output: 1\n",
    "print(stack.isEmpty())  # Output: True\n"
   ]
  },
  {
   "cell_type": "markdown",
   "id": "878e1b70",
   "metadata": {},
   "source": [
    "<aside>\n",
    "💡 **Question 4**\n",
    "\n",
    "You are given a stack **St**. You have to reverse the stack using recursion.\n",
    "\n",
    "</aside>"
   ]
  },
  {
   "cell_type": "code",
   "execution_count": 9,
   "id": "f7693ef9",
   "metadata": {},
   "outputs": [],
   "source": [
    "def reverseStack(St):\n",
    "    if len(St) <= 1:\n",
    "        return\n",
    "\n",
    "    top = St.pop()\n",
    "    reverseStack(St)\n",
    "    insertAtBottom(St, top)\n",
    "\n",
    "def insertAtBottom(St, item):\n",
    "    if len(St) == 0:\n",
    "        St.append(item)\n",
    "    else:\n",
    "        top = St.pop()\n",
    "        insertAtBottom(St, item)\n",
    "        St.append(top)\n"
   ]
  },
  {
   "cell_type": "code",
   "execution_count": 10,
   "id": "29600c4e",
   "metadata": {},
   "outputs": [
    {
     "name": "stdout",
     "output_type": "stream",
     "text": [
      "Original Stack: [1, 2, 3, 4, 5]\n",
      "Reversed Stack: [5, 4, 3, 2, 1]\n"
     ]
    }
   ],
   "source": [
    "stack = [1, 2, 3, 4, 5]\n",
    "print(\"Original Stack:\", stack)  # Output: [1, 2, 3, 4, 5]\n",
    "\n",
    "reverseStack(stack)\n",
    "print(\"Reversed Stack:\", stack)  # Output: [5, 4, 3, 2, 1]\n"
   ]
  },
  {
   "cell_type": "markdown",
   "id": "a6e268cb",
   "metadata": {},
   "source": [
    "<aside>\n",
    "💡 **Question 5**\n",
    "\n",
    "You are given a string **S**, the task is to reverse the string using stack.\n",
    "\n",
    "</aside>"
   ]
  },
  {
   "cell_type": "code",
   "execution_count": 11,
   "id": "eebdb0dd",
   "metadata": {},
   "outputs": [],
   "source": [
    "def reverseString(S):\n",
    "    stack = []\n",
    "    reversed_string = \"\"\n",
    "\n",
    "    # Push each character onto the stack\n",
    "    for char in S:\n",
    "        stack.append(char)\n",
    "\n",
    "    # Pop each character from the stack and append it to the reversed string\n",
    "    while stack:\n",
    "        reversed_string += stack.pop()\n",
    "\n",
    "    return reversed_string\n"
   ]
  },
  {
   "cell_type": "code",
   "execution_count": 12,
   "id": "591099d7",
   "metadata": {},
   "outputs": [
    {
     "name": "stdout",
     "output_type": "stream",
     "text": [
      "!dlroW ,olleH\n"
     ]
    }
   ],
   "source": [
    "string = \"Hello, World!\"\n",
    "reversed_string = reverseString(string)\n",
    "print(reversed_string)  # Output: \"!dlroW ,olleH\"\n"
   ]
  },
  {
   "cell_type": "markdown",
   "id": "631be33a",
   "metadata": {},
   "source": [
    "<aside>\n",
    "💡 **Question 6**\n",
    "\n",
    "Given string **S** representing a postfix expression, the task is to evaluate the expression and find the final value. Operators will only include the basic arithmetic operators like ***, /, + and -**.\n",
    "\n",
    "</aside>"
   ]
  },
  {
   "cell_type": "code",
   "execution_count": 13,
   "id": "91c12015",
   "metadata": {},
   "outputs": [
    {
     "name": "stdout",
     "output_type": "stream",
     "text": [
      "Result: 48\n"
     ]
    }
   ],
   "source": [
    "def evaluate_postfix(expression):\n",
    "    stack = []\n",
    "    operators = {'+': lambda a, b: a + b,\n",
    "                 '-': lambda a, b: a - b,\n",
    "                 '*': lambda a, b: a * b,\n",
    "                 '/': lambda a, b: a / b}\n",
    "\n",
    "    for char in expression:\n",
    "        if char.isdigit():\n",
    "            stack.append(int(char))\n",
    "        elif char in operators:\n",
    "            operand2 = stack.pop()\n",
    "            operand1 = stack.pop()\n",
    "            result = operators[char](operand1, operand2)\n",
    "            stack.append(result)\n",
    "\n",
    "    return stack[0]\n",
    "\n",
    "# Example usage:\n",
    "postfix_expression = \"53+82-*\"\n",
    "result = evaluate_postfix(postfix_expression)\n",
    "print(\"Result:\", result)\n"
   ]
  },
  {
   "cell_type": "markdown",
   "id": "c2002a6c",
   "metadata": {},
   "source": [
    "<aside>\n",
    "💡 **Question 7**\n",
    "\n",
    "Design a stack that supports push, pop, top, and retrieving the minimum element in constant time.\n",
    "\n",
    "Implement the `MinStack` class:\n",
    "\n",
    "- `MinStack()` initializes the stack object.\n",
    "- `void push(int val)` pushes the element `val` onto the stack.\n",
    "- `void pop()` removes the element on the top of the stack.\n",
    "- `int top()` gets the top element of the stack.\n",
    "- `int getMin()` retrieves the minimum element in the stack.\n",
    "\n",
    "You must implement a solution with `O(1)` time complexity for each function.\n",
    "\n",
    "</aside>"
   ]
  },
  {
   "cell_type": "code",
   "execution_count": 14,
   "id": "885796a6",
   "metadata": {},
   "outputs": [],
   "source": [
    "class MinStack:\n",
    "    def __init__(self):\n",
    "        self.stack = []  # Main stack to store elements\n",
    "        self.min_stack = []  # Auxiliary stack to store minimum elements\n",
    "\n",
    "    def push(self, val):\n",
    "        self.stack.append(val)\n",
    "\n",
    "        # Update the minimum stack\n",
    "        if not self.min_stack or val <= self.min_stack[-1]:\n",
    "            self.min_stack.append(val)\n",
    "\n",
    "    def pop(self):\n",
    "        if self.stack:\n",
    "            val = self.stack.pop()\n",
    "\n",
    "            # Update the minimum stack\n",
    "            if val == self.min_stack[-1]:\n",
    "                self.min_stack.pop()\n",
    "\n",
    "    def top(self):\n",
    "        if self.stack:\n",
    "            return self.stack[-1]\n",
    "\n",
    "    def getMin(self):\n",
    "        if self.min_stack:\n",
    "            return self.min_stack[-1]\n"
   ]
  },
  {
   "cell_type": "code",
   "execution_count": 15,
   "id": "7ab7ade6",
   "metadata": {},
   "outputs": [
    {
     "name": "stdout",
     "output_type": "stream",
     "text": [
      "1\n",
      "1\n",
      "2\n",
      "7\n"
     ]
    }
   ],
   "source": [
    "min_stack = MinStack()\n",
    "min_stack.push(5)\n",
    "min_stack.push(2)\n",
    "min_stack.push(7)\n",
    "min_stack.push(1)\n",
    "\n",
    "print(min_stack.getMin())  # Output: 1\n",
    "print(min_stack.top())     # Output: 1\n",
    "\n",
    "min_stack.pop()\n",
    "\n",
    "print(min_stack.getMin())  # Output: 2\n",
    "print(min_stack.top())     # Output: 7\n"
   ]
  },
  {
   "cell_type": "markdown",
   "id": "7b198eac",
   "metadata": {},
   "source": [
    "<aside>\n",
    "💡 **Question 8**\n",
    "\n",
    "Given `n` non-negative integers representing an elevation map where the width of each bar is `1`, compute how much water it can trap after raining.\n",
    "\n",
    "</aside>"
   ]
  },
  {
   "cell_type": "code",
   "execution_count": 16,
   "id": "f1026640",
   "metadata": {},
   "outputs": [],
   "source": [
    "def trap(height):\n",
    "    if not height:\n",
    "        return 0\n",
    "\n",
    "    left = 0\n",
    "    right = len(height) - 1\n",
    "    left_max = right_max = water = 0\n",
    "\n",
    "    while left < right:\n",
    "        if height[left] <= height[right]:\n",
    "            if height[left] > left_max:\n",
    "                left_max = height[left]\n",
    "            else:\n",
    "                water += left_max - height[left]\n",
    "            left += 1\n",
    "        else:\n",
    "            if height[right] > right_max:\n",
    "                right_max = height[right]\n",
    "            else:\n",
    "                water += right_max - height[right]\n",
    "            right -= 1\n",
    "\n",
    "    return water\n"
   ]
  },
  {
   "cell_type": "code",
   "execution_count": 17,
   "id": "f0e28b76",
   "metadata": {},
   "outputs": [
    {
     "name": "stdout",
     "output_type": "stream",
     "text": [
      "Water trapped: 6\n"
     ]
    }
   ],
   "source": [
    "elevation_map = [0, 1, 0, 2, 1, 0, 1, 3, 2, 1, 2, 1]\n",
    "water_trapped = trap(elevation_map)\n",
    "print(\"Water trapped:\", water_trapped)\n"
   ]
  },
  {
   "cell_type": "code",
   "execution_count": null,
   "id": "b976f343",
   "metadata": {},
   "outputs": [],
   "source": []
  }
 ],
 "metadata": {
  "kernelspec": {
   "display_name": "Python 3 (ipykernel)",
   "language": "python",
   "name": "python3"
  },
  "language_info": {
   "codemirror_mode": {
    "name": "ipython",
    "version": 3
   },
   "file_extension": ".py",
   "mimetype": "text/x-python",
   "name": "python",
   "nbconvert_exporter": "python",
   "pygments_lexer": "ipython3",
   "version": "3.10.9"
  }
 },
 "nbformat": 4,
 "nbformat_minor": 5
}
