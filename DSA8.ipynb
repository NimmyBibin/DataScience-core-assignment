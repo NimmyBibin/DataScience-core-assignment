{
 "cells": [
  {
   "cell_type": "markdown",
   "id": "678d0b64",
   "metadata": {},
   "source": [
    "<aside>\n",
    "💡 **Question 1**\n",
    "\n",
    "Given two strings s1 and s2, return *the lowest **ASCII** sum of deleted characters to make two strings equal*.\n",
    "\n",
    "**Example 1:**\n",
    "\n",
    "**Input:** s1 = \"sea\", s2 = \"eat\"\n",
    "\n",
    "**Output:** 231\n",
    "\n",
    "**Explanation:** Deleting \"s\" from \"sea\" adds the ASCII value of \"s\" (115) to the sum.\n",
    "\n",
    "Deleting \"t\" from \"eat\" adds 116 to the sum.\n",
    "\n",
    "At the end, both strings are equal, and 115 + 116 = 231 is the minimum sum possible to achieve this.\n",
    "\n",
    "</aside>"
   ]
  },
  {
   "cell_type": "code",
   "execution_count": 1,
   "id": "53b2ac29",
   "metadata": {},
   "outputs": [
    {
     "name": "stdout",
     "output_type": "stream",
     "text": [
      "231\n"
     ]
    }
   ],
   "source": [
    "def minimumDeleteSum(s1, s2):\n",
    "    m, n = len(s1), len(s2)\n",
    "    dp = [[0] * (n + 1) for _ in range(m + 1)]\n",
    "\n",
    "    # Fill the first row and column of the table\n",
    "    for i in range(1, m + 1):\n",
    "        dp[i][0] = dp[i-1][0] + ord(s1[i-1])\n",
    "    for j in range(1, n + 1):\n",
    "        dp[0][j] = dp[0][j-1] + ord(s2[j-1])\n",
    "\n",
    "    # Fill the rest of the table\n",
    "    for i in range(1, m + 1):\n",
    "        for j in range(1, n + 1):\n",
    "            if s1[i-1] == s2[j-1]:\n",
    "                dp[i][j] = dp[i-1][j-1]\n",
    "            else:\n",
    "                dp[i][j] = min(dp[i-1][j] + ord(s1[i-1]), dp[i][j-1] + ord(s2[j-1]))\n",
    "\n",
    "    return dp[m][n]\n",
    "s1 = \"sea\"\n",
    "s2 = \"eat\"\n",
    "\n",
    "result = minimumDeleteSum(s1, s2)\n",
    "print(result)\n"
   ]
  },
  {
   "cell_type": "markdown",
   "id": "ed4dcc63",
   "metadata": {},
   "source": [
    "<aside>\n",
    "💡 **Question 2**\n",
    "\n",
    "Given a string s containing only three types of characters: '(', ')' and '*', return true *if* s *is **valid***.\n",
    "\n",
    "The following rules define a **valid** string:\n",
    "\n",
    "- Any left parenthesis '(' must have a corresponding right parenthesis ')'.\n",
    "- Any right parenthesis ')' must have a corresponding left parenthesis '('.\n",
    "- Left parenthesis '(' must go before the corresponding right parenthesis ')'.\n",
    "- '*' could be treated as a single right parenthesis ')' or a single left parenthesis '(' or an empty string \"\".\n",
    "\n",
    "**Example 1:**\n",
    "\n",
    "**Input:** s = \"()\"\n",
    "\n",
    "**Output:**\n",
    "\n",
    "true\n",
    "\n",
    "</aside>"
   ]
  },
  {
   "cell_type": "code",
   "execution_count": 2,
   "id": "67f0847a",
   "metadata": {},
   "outputs": [
    {
     "name": "stdout",
     "output_type": "stream",
     "text": [
      "True\n"
     ]
    }
   ],
   "source": [
    "def checkValidString(s):\n",
    "    stack = []\n",
    "    asterisks = []\n",
    "    for i, char in enumerate(s):\n",
    "        if char == '(':\n",
    "            stack.append(i)\n",
    "        elif char == '*':\n",
    "            asterisks.append(i)\n",
    "        else:\n",
    "            if stack:\n",
    "                stack.pop()\n",
    "            elif asterisks:\n",
    "                asterisks.pop()\n",
    "            else:\n",
    "                return False\n",
    "\n",
    "    while stack and asterisks:\n",
    "        if stack[-1] > asterisks[-1]:\n",
    "            return False\n",
    "        stack.pop()\n",
    "        asterisks.pop()\n",
    "\n",
    "    return len(stack) == 0\n",
    "s = \"()\"\n",
    "\n",
    "result = checkValidString(s)\n",
    "print(result)\n"
   ]
  },
  {
   "cell_type": "markdown",
   "id": "41bac9b1",
   "metadata": {},
   "source": [
    "<aside>\n",
    "💡 **Question 3**\n",
    "\n",
    "Given two strings word1 and word2, return *the minimum number of **steps** required to make* word1 *and* word2 *the same*.\n",
    "\n",
    "In one **step**, you can delete exactly one character in either string.\n",
    "\n",
    "**Example 1:**\n",
    "\n",
    "**Input:** word1 = \"sea\", word2 = \"eat\"\n",
    "\n",
    "**Output:** 2\n",
    "\n",
    "**Explanation:** You need one step to make \"sea\" to \"ea\" and another step to make \"eat\" to \"ea\".\n",
    "\n",
    "</aside>"
   ]
  },
  {
   "cell_type": "code",
   "execution_count": 3,
   "id": "93941549",
   "metadata": {},
   "outputs": [
    {
     "name": "stdout",
     "output_type": "stream",
     "text": [
      "2\n"
     ]
    }
   ],
   "source": [
    "def minDistance(word1, word2):\n",
    "    m, n = len(word1), len(word2)\n",
    "    dp = [[0] * (n + 1) for _ in range(m + 1)]\n",
    "\n",
    "    # Fill the first row and column of the table\n",
    "    for i in range(1, m + 1):\n",
    "        dp[i][0] = i\n",
    "    for j in range(1, n + 1):\n",
    "        dp[0][j] = j\n",
    "\n",
    "    # Fill the rest of the table\n",
    "    for i in range(1, m + 1):\n",
    "        for j in range(1, n + 1):\n",
    "            if word1[i-1] == word2[j-1]:\n",
    "                dp[i][j] = dp[i-1][j-1]\n",
    "            else:\n",
    "                dp[i][j] = min(dp[i-1][j], dp[i][j-1]) + 1\n",
    "\n",
    "    return dp[m][n]\n",
    "word1 = \"sea\"\n",
    "word2 = \"eat\"\n",
    "\n",
    "result = minDistance(word1, word2)\n",
    "print(result)\n"
   ]
  },
  {
   "cell_type": "markdown",
   "id": "b1ee2727",
   "metadata": {},
   "source": [
    "<aside>\n",
    "💡 **Question 4**\n",
    "\n",
    "You need to construct a binary tree from a string consisting of parenthesis and integers.\n",
    "\n",
    "The whole input represents a binary tree. It contains an integer followed by zero, one or two pairs of parenthesis. The integer represents the root's value and a pair of parenthesis contains a child binary tree with the same structure.\n",
    "You always start to construct the **left** child node of the parent first if it exists.\n",
    "\n",
    "</aside>"
   ]
  },
  {
   "cell_type": "code",
   "execution_count": 5,
   "id": "f1f479a3",
   "metadata": {},
   "outputs": [
    {
     "name": "stdout",
     "output_type": "stream",
     "text": [
      "<__main__.TreeNode object at 0x0000014B7D81C250>\n"
     ]
    }
   ],
   "source": [
    "class TreeNode:\n",
    "    def __init__(self, val=0, left=None, right=None):\n",
    "        self.val = val\n",
    "        self.left = left\n",
    "        self.right = right\n",
    "\n",
    "def str2tree(s):\n",
    "    if not s:\n",
    "        return None\n",
    "\n",
    "    # Find the first '(' character\n",
    "    i = s.find('(')\n",
    "\n",
    "    if i == -1:\n",
    "        # No '(' found, so the entire string is a single integer\n",
    "        return TreeNode(int(s))\n",
    "\n",
    "    # Extract the value of the root node\n",
    "    val = int(s[:i])\n",
    "\n",
    "    # Find the matching ')' character\n",
    "    count = 0\n",
    "    for j in range(i, len(s)):\n",
    "        if s[j] == '(':\n",
    "            count += 1\n",
    "        elif s[j] == ')':\n",
    "            count -= 1\n",
    "\n",
    "        if count == 0:\n",
    "            break\n",
    "\n",
    "    # Recursively construct the left and right subtrees\n",
    "    left = str2tree(s[i+1:j])\n",
    "    right = str2tree(s[j+2:-1])\n",
    "\n",
    "    # Create and return the root node\n",
    "    return TreeNode(val, left, right)\n",
    "s = \"4(2(3)(1))(6(5))\"\n",
    "\n",
    "root = str2tree(s)\n",
    "print(root)"
   ]
  },
  {
   "cell_type": "markdown",
   "id": "3a45e7c6",
   "metadata": {},
   "source": [
    "<aside>\n",
    "💡 **Question 5**\n",
    "\n",
    "Given an array of characters chars, compress it using the following algorithm:\n",
    "\n",
    "Begin with an empty string s. For each group of **consecutive repeating characters** in chars:\n",
    "\n",
    "- If the group's length is 1, append the character to s.\n",
    "- Otherwise, append the character followed by the group's length.\n",
    "\n",
    "The compressed string s **should not be returned separately**, but instead, be stored **in the input character array chars**. Note that group lengths that are 10 or longer will be split into multiple characters in chars.\n",
    "\n",
    "After you are done **modifying the input array,** return *the new length of the array*.\n",
    "\n",
    "You must write an algorithm that uses only constant extra space.\n",
    "\n",
    "**Example 1:**\n",
    "\n",
    "**Input:** chars = [\"a\",\"a\",\"b\",\"b\",\"c\",\"c\",\"c\"]\n",
    "\n",
    "**Output:** Return 6, and the first 6 characters of the input array should be: [\"a\",\"2\",\"b\",\"2\",\"c\",\"3\"]\n",
    "\n",
    "**Explanation:**\n",
    "\n",
    "The groups are \"aa\", \"bb\", and \"ccc\". This compresses to \"a2b2c3\".\n",
    "\n",
    "</aside>"
   ]
  },
  {
   "cell_type": "code",
   "execution_count": 6,
   "id": "b6e03385",
   "metadata": {},
   "outputs": [
    {
     "name": "stdout",
     "output_type": "stream",
     "text": [
      "6\n",
      "['a', '2', 'b', '2', 'c', '3']\n"
     ]
    }
   ],
   "source": [
    "def compress(chars):\n",
    "    # Initialize pointers and count\n",
    "    i = 0  # pointer for reading characters\n",
    "    j = 0  # pointer for writing compressed characters\n",
    "    count = 0  # count of consecutive repeating characters\n",
    "\n",
    "    # Iterate through the array\n",
    "    while i < len(chars):\n",
    "        char = chars[i]\n",
    "        count = 1\n",
    "\n",
    "        # Count the number of consecutive repeating characters\n",
    "        while i + 1 < len(chars) and chars[i] == chars[i + 1]:\n",
    "            count += 1\n",
    "            i += 1\n",
    "\n",
    "        # Write the compressed character and count\n",
    "        chars[j] = char\n",
    "        j += 1\n",
    "\n",
    "        if count > 1:\n",
    "            count_str = str(count)\n",
    "            for digit in count_str:\n",
    "                chars[j] = digit\n",
    "                j += 1\n",
    "\n",
    "        i += 1\n",
    "\n",
    "    return j\n",
    "chars = [\"a\", \"a\", \"b\", \"b\", \"c\", \"c\", \"c\"]\n",
    "\n",
    "result = compress(chars)\n",
    "print(result)  # Output: 6\n",
    "print(chars[:result])  # Output: ['a', '2', 'b', '2', 'c', '3']\n"
   ]
  },
  {
   "cell_type": "markdown",
   "id": "20e2ebda",
   "metadata": {},
   "source": [
    "<aside>\n",
    "💡 **Question 6**\n",
    "\n",
    "Given two strings s and p, return *an array of all the start indices of* p*'s anagrams in* s. You may return the answer in **any order**.\n",
    "\n",
    "An **Anagram** is a word or phrase formed by rearranging the letters of a different word or phrase, typically using all the original letters exactly once.\n",
    "\n",
    "**Example 1:**\n",
    "\n",
    "**Input:** s = \"cbaebabacd\", p = \"abc\"\n",
    "\n",
    "**Output:** [0,6]\n",
    "\n",
    "**Explanation:**\n",
    "\n",
    "The substring with start index = 0 is \"cba\", which is an anagram of \"abc\".\n",
    "\n",
    "The substring with start index = 6 is \"bac\", which is an anagram of \"abc\".\n",
    "\n",
    "</aside>"
   ]
  },
  {
   "cell_type": "code",
   "execution_count": 7,
   "id": "1c39c0d5",
   "metadata": {},
   "outputs": [
    {
     "name": "stdout",
     "output_type": "stream",
     "text": [
      "[0, 6]\n"
     ]
    }
   ],
   "source": [
    "from collections import Counter\n",
    "\n",
    "def findAnagrams(s, p):\n",
    "    # Initialize variables\n",
    "    n = len(s)\n",
    "    m = len(p)\n",
    "    p_counter = Counter(p)\n",
    "    window_counter = Counter()\n",
    "\n",
    "    # Initialize result list\n",
    "    result = []\n",
    "\n",
    "    # Sliding window approach\n",
    "    for i in range(n):\n",
    "        # Add current character to the window\n",
    "        window_counter[s[i]] += 1\n",
    "\n",
    "        # If the window size exceeds p's length, remove the leftmost character\n",
    "        if i >= m:\n",
    "            if window_counter[s[i - m]] == 1:\n",
    "                del window_counter[s[i - m]]\n",
    "            else:\n",
    "                window_counter[s[i - m]] -= 1\n",
    "\n",
    "        # Check if the current window is an anagram of p\n",
    "        if window_counter == p_counter:\n",
    "            result.append(i - m + 1)\n",
    "\n",
    "    return result\n",
    "s = \"cbaebabacd\"\n",
    "p = \"abc\"\n",
    "\n",
    "result = findAnagrams(s, p)\n",
    "print(result)  # Output: [0, 6]\n"
   ]
  },
  {
   "cell_type": "markdown",
   "id": "a34830c0",
   "metadata": {},
   "source": [
    "<aside>\n",
    "💡 **Question 7**\n",
    "\n",
    "Given an encoded string, return its decoded string.\n",
    "\n",
    "The encoding rule is: k[encoded_string], where the encoded_string inside the square brackets is being repeated exactly k times. Note that k is guaranteed to be a positive integer.\n",
    "\n",
    "You may assume that the input string is always valid; there are no extra white spaces, square brackets are well-formed, etc. Furthermore, you may assume that the original data does not contain any digits and that digits are only for those repeat numbers, k. For example, there will not be input like 3a or 2[4].\n",
    "\n",
    "The test cases are generated so that the length of the output will never exceed 105.\n",
    "\n",
    "**Example 1:**\n",
    "\n",
    "**Input:** s = \"3[a]2[bc]\"\n",
    "\n",
    "**Output:** \"aaabcbc\"\n",
    "\n",
    "</aside>"
   ]
  },
  {
   "cell_type": "code",
   "execution_count": 8,
   "id": "657cd963",
   "metadata": {},
   "outputs": [
    {
     "name": "stdout",
     "output_type": "stream",
     "text": [
      "aaabcbc\n"
     ]
    }
   ],
   "source": [
    "def decodeString(s):\n",
    "    stack = []\n",
    "    current_string = ''\n",
    "    current_number = 0\n",
    "\n",
    "    for char in s:\n",
    "        if char.isdigit():\n",
    "            current_number = current_number * 10 + int(char)\n",
    "        elif char == '[':\n",
    "            stack.append((current_string, current_number))\n",
    "            current_string = ''\n",
    "            current_number = 0\n",
    "        elif char == ']':\n",
    "            prev_string, repeat_count = stack.pop()\n",
    "            current_string = prev_string + current_string * repeat_count\n",
    "        else:\n",
    "            current_string += char\n",
    "\n",
    "    return current_string\n",
    "s = \"3[a]2[bc]\"\n",
    "\n",
    "result = decodeString(s)\n",
    "print(result)  # Output: \"aaabcbc\"\n"
   ]
  },
  {
   "cell_type": "markdown",
   "id": "5fc72814",
   "metadata": {},
   "source": [
    "<aside>\n",
    "💡 **Question 8**\n",
    "\n",
    "Given two strings s and goal, return true *if you can swap two letters in* s *so the result is equal to* goal*, otherwise, return* false*.*\n",
    "\n",
    "Swapping letters is defined as taking two indices i and j (0-indexed) such that i != j and swapping the characters at s[i] and s[j].\n",
    "\n",
    "- For example, swapping at indices 0 and 2 in \"abcd\" results in \"cbad\".\n",
    "\n",
    "**Example 1:**\n",
    "\n",
    "**Input:** s = \"ab\", goal = \"ba\"\n",
    "\n",
    "**Output:** true\n",
    "\n",
    "**Explanation:** You can swap s[0] = 'a' and s[1] = 'b' to get \"ba\", which is equal to goal.\n",
    "\n",
    "</aside>"
   ]
  },
  {
   "cell_type": "code",
   "execution_count": 10,
   "id": "70731015",
   "metadata": {},
   "outputs": [
    {
     "name": "stdout",
     "output_type": "stream",
     "text": [
      "True\n"
     ]
    }
   ],
   "source": [
    "def buddyStrings(s, goal):\n",
    "    if len(s) != len(goal):\n",
    "        return False\n",
    "\n",
    "    if s == goal:\n",
    "        # Check if there are any repeated characters in s\n",
    "        return len(set(s)) < len(s)\n",
    "\n",
    "    mismatches = []\n",
    "    for i in range(len(s)):\n",
    "        if s[i] != goal[i]:\n",
    "            mismatches.append((s[i], goal[i]))\n",
    "\n",
    "    return len(mismatches) == 2 and mismatches[0] == mismatches[1][::-1]\n",
    "s = \"ab\"\n",
    "goal = \"ba\"\n",
    "\n",
    "result = buddyStrings(s, goal)\n",
    "print(result)  # Output: True\n"
   ]
  },
  {
   "cell_type": "code",
   "execution_count": null,
   "id": "9aec2e5b",
   "metadata": {},
   "outputs": [],
   "source": []
  }
 ],
 "metadata": {
  "kernelspec": {
   "display_name": "Python 3 (ipykernel)",
   "language": "python",
   "name": "python3"
  },
  "language_info": {
   "codemirror_mode": {
    "name": "ipython",
    "version": 3
   },
   "file_extension": ".py",
   "mimetype": "text/x-python",
   "name": "python",
   "nbconvert_exporter": "python",
   "pygments_lexer": "ipython3",
   "version": "3.10.9"
  }
 },
 "nbformat": 4,
 "nbformat_minor": 5
}
