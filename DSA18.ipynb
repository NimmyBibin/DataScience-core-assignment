{
 "cells": [
  {
   "cell_type": "markdown",
   "id": "b74c9482",
   "metadata": {},
   "source": [
    "<aside>\n",
    "💡  **Merge Intervals**\n",
    "\n",
    "Given an array of `intervals` where `intervals[i] = [starti, endi]`, merge all overlapping intervals, and return *an array of the non-overlapping intervals that cover all the intervals in the input*.\n",
    "\n",
    "</aside>"
   ]
  },
  {
   "cell_type": "code",
   "execution_count": 1,
   "id": "8e9b327d",
   "metadata": {},
   "outputs": [
    {
     "name": "stdout",
     "output_type": "stream",
     "text": [
      "Merged Intervals: [[1, 6], [8, 10], [15, 18]]\n"
     ]
    }
   ],
   "source": [
    "def merge_intervals(intervals):\n",
    "    if not intervals:\n",
    "        return []\n",
    "\n",
    "    intervals.sort(key=lambda x: x[0])  # Sort intervals based on start time\n",
    "    merged = [intervals[0]]  # Initialize the merged list with the first interval\n",
    "\n",
    "    for interval in intervals[1:]:\n",
    "        if interval[0] <= merged[-1][1]:  # Check for overlap with the last merged interval\n",
    "            merged[-1][1] = max(merged[-1][1], interval[1])  # Update the end time if needed\n",
    "        else:\n",
    "            merged.append(interval)  # Add the current interval to the merged list\n",
    "\n",
    "    return merged\n",
    "intervals = [[1, 3], [2, 6], [8, 10], [15, 18]]\n",
    "merged_intervals = merge_intervals(intervals)\n",
    "print(\"Merged Intervals:\", merged_intervals)\n"
   ]
  },
  {
   "cell_type": "markdown",
   "id": "27232dca",
   "metadata": {},
   "source": [
    "<aside>\n",
    "💡 2. **Sort Colors**\n",
    "\n",
    "Given an array `nums` with `n` objects colored red, white, or blue, sort them **[in-place](https://en.wikipedia.org/wiki/In-place_algorithm)** so that objects of the same color are adjacent, with the colors in the order red, white, and blue.\n",
    "\n",
    "We will use the integers `0`, `1`, and `2` to represent the color red, white, and blue, respectively.\n",
    "\n",
    "You must solve this problem without using the library's sort function.\n",
    "\n",
    "</aside>"
   ]
  },
  {
   "cell_type": "code",
   "execution_count": 3,
   "id": "8879d4fa",
   "metadata": {},
   "outputs": [
    {
     "name": "stdout",
     "output_type": "stream",
     "text": [
      "Sorted Colors: [0, 0, 1, 1, 2, 2]\n"
     ]
    }
   ],
   "source": [
    "def sort_colors(nums):\n",
    "    low, mid, high = 0, 0, len(nums) - 1\n",
    "\n",
    "    while mid <= high:\n",
    "        if nums[mid] == 0:\n",
    "            nums[low], nums[mid] = nums[mid], nums[low]\n",
    "            low += 1\n",
    "            mid += 1\n",
    "        elif nums[mid] == 1:\n",
    "            mid += 1\n",
    "        else:\n",
    "            nums[mid], nums[high] = nums[high], nums[mid]\n",
    "            high -= 1\n",
    "\n",
    "# Example usage:\n",
    "nums = [2, 0, 2, 1, 1, 0]\n",
    "sort_colors(nums)\n",
    "print(\"Sorted Colors:\", nums)\n"
   ]
  },
  {
   "cell_type": "markdown",
   "id": "bb186b86",
   "metadata": {},
   "source": [
    "<aside>\n",
    "💡 3. **First Bad Version Solution**\n",
    "\n",
    "You are a product manager and currently leading a team to develop a new product. Unfortunately, the latest version of your product fails the quality check. Since each version is developed based on the previous version, all the versions after a bad version are also bad.\n",
    "\n",
    "Suppose you have `n` versions `[1, 2, ..., n]` and you want to find out the first bad one, which causes all the following ones to be bad.\n",
    "\n",
    "You are given an API `bool isBadVersion(version)` which returns whether `version` is bad. Implement a function to find the first bad version. You should minimize the number of calls to the API.\n",
    "\n",
    "</aside>"
   ]
  },
  {
   "cell_type": "code",
   "execution_count": 4,
   "id": "6cea6dcf",
   "metadata": {},
   "outputs": [],
   "source": [
    "def first_bad_version(n):\n",
    "    left, right = 1, n\n",
    "\n",
    "    while left < right:\n",
    "        mid = left + (right - left) // 2\n",
    "        if isBadVersion(mid):\n",
    "            right = mid\n",
    "        else:\n",
    "            left = mid + 1\n",
    "\n",
    "    return left\n"
   ]
  },
  {
   "cell_type": "markdown",
   "id": "b991f47f",
   "metadata": {},
   "source": [
    "<aside>\n",
    "💡 4. **Maximum Gap**\n",
    "\n",
    "Given an integer array `nums`, return *the maximum difference between two successive elements in its sorted form*. If the array contains less than two elements, return `0`.\n",
    "\n",
    "You must write an algorithm that runs in linear time and uses linear extra space.\n",
    "\n",
    "**Example 1:**\n",
    "\n",
    "</aside>"
   ]
  },
  {
   "cell_type": "code",
   "execution_count": 6,
   "id": "e8c9157a",
   "metadata": {},
   "outputs": [],
   "source": [
    "def maximum_gap(nums):\n",
    "    if len(nums) < 2:\n",
    "        return 0\n",
    "\n",
    "    min_value = min(nums)\n",
    "    max_value = max(nums)\n",
    "    n = len(nums)\n",
    "    gap = (max_value - min_value) // (n - 1) or 1\n",
    "\n",
    "    min_bucket = [float('inf')] * (n - 1)\n",
    "    max_bucket = [float('-inf')] * (n - 1)\n",
    "\n",
    "    for num in nums:\n",
    "        if num == min_value or num == max_value:\n",
    "            continue\n",
    "\n",
    "        index = (num - min_value) // gap\n",
    "        min_bucket[index] = min(min_bucket[index], num)\n",
    "        max_bucket[index] = max(max_bucket[index], num)\n",
    "\n",
    "    max_gap = 0\n",
    "    previous_max = min_value\n",
    "\n",
    "    for i in range(n - 1):\n",
    "        if min_bucket[i] == float('inf') and max_bucket[i] == float('-inf'):\n",
    "            continue\n",
    "\n",
    "        max_gap = max(max_gap, min_bucket[i] - previous_max)\n",
    "        previous_max = max_bucket[i]\n",
    "\n",
    "    max_gap = max(max_gap, max_value - previous_max)\n",
    "\n",
    "    return max_gap\n"
   ]
  },
  {
   "cell_type": "markdown",
   "id": "35c5d166",
   "metadata": {},
   "source": [
    "<aside>\n",
    "💡 5. **Contains Duplicate**\n",
    "\n",
    "Given an integer array `nums`, return `true` if any value appears **at least twice** in the array, and return `false` if every element is distinct.\n",
    "\n",
    "</aside>"
   ]
  },
  {
   "cell_type": "code",
   "execution_count": 8,
   "id": "6b23d470",
   "metadata": {},
   "outputs": [],
   "source": [
    "def contains_duplicate(nums):\n",
    "    seen = set()\n",
    "\n",
    "    for num in nums:\n",
    "        if num in seen:\n",
    "            return True\n",
    "        seen.add(num)\n",
    "\n",
    "    return False\n"
   ]
  },
  {
   "cell_type": "markdown",
   "id": "60915362",
   "metadata": {},
   "source": [
    "<aside>\n",
    "💡 6. **Minimum Number of Arrows to Burst Balloons**\n",
    "\n",
    "There are some spherical balloons taped onto a flat wall that represents the XY-plane. The balloons are represented as a 2D integer array `points` where `points[i] = [xstart, xend]` denotes a balloon whose **horizontal diameter** stretches between `xstart` and `xend`. You do not know the exact y-coordinates of the balloons.\n",
    "\n",
    "Arrows can be shot up **directly vertically** (in the positive y-direction) from different points along the x-axis. A balloon with `xstart` and `xend` is **burst** by an arrow shot at `x` if `xstart <= x <= xend`. There is **no limit** to the number of arrows that can be shot. A shot arrow keeps traveling up infinitely, bursting any balloons in its path.\n",
    "\n",
    "Given the array `points`, return *the **minimum** number of arrows that must be shot to burst all balloons*.\n",
    "\n",
    "</aside>"
   ]
  },
  {
   "cell_type": "code",
   "execution_count": 9,
   "id": "26e4f167",
   "metadata": {},
   "outputs": [],
   "source": [
    "def find_min_arrows(points):\n",
    "    if not points:\n",
    "        return 0\n",
    "\n",
    "    points.sort(key=lambda x: x[1])  # Sort balloons based on end position\n",
    "    count = 0\n",
    "    end = float('-inf')\n",
    "\n",
    "    for balloon in points:\n",
    "        if balloon[0] > end:\n",
    "            count += 1\n",
    "            end = balloon[1]\n",
    "\n",
    "    return count\n"
   ]
  },
  {
   "cell_type": "markdown",
   "id": "8c8c2072",
   "metadata": {},
   "source": [
    "<aside>\n",
    "💡 7. **Longest Increasing Subsequence**\n",
    "\n",
    "Given an integer array `nums`, return *the length of the longest **strictly increasing***\n",
    "\n",
    "***subsequence***\n",
    "\n",
    "</aside>"
   ]
  },
  {
   "cell_type": "code",
   "execution_count": 10,
   "id": "725ef4e5",
   "metadata": {},
   "outputs": [],
   "source": [
    "def length_of_lis(nums):\n",
    "    n = len(nums)\n",
    "    if n == 0:\n",
    "        return 0\n",
    "\n",
    "    dp = [1] * n\n",
    "\n",
    "    for i in range(1, n):\n",
    "        for j in range(i):\n",
    "            if nums[i] > nums[j]:\n",
    "                dp[i] = max(dp[i], dp[j] + 1)\n",
    "\n",
    "    return max(dp)\n"
   ]
  },
  {
   "cell_type": "markdown",
   "id": "ec54b7bf",
   "metadata": {},
   "source": [
    "<aside>\n",
    "💡 8. **132 Pattern**\n",
    "\n",
    "Given an array of `n` integers `nums`, a **132 pattern** is a subsequence of three integers `nums[i]`, `nums[j]` and `nums[k]` such that `i < j < k` and `nums[i] < nums[k] < nums[j]`.\n",
    "\n",
    "Return `true` *if there is a **132 pattern** in* `nums`*, otherwise, return* `false`*.*\n",
    "\n",
    "</aside>"
   ]
  },
  {
   "cell_type": "code",
   "execution_count": 11,
   "id": "fd353272",
   "metadata": {},
   "outputs": [],
   "source": [
    "def find132pattern(nums):\n",
    "    stack = []\n",
    "    s2 = float('-inf')\n",
    "    n = len(nums)\n",
    "\n",
    "    for i in range(n - 1, -1, -1):\n",
    "        if nums[i] < s2:\n",
    "            return True\n",
    "\n",
    "        while stack and nums[i] > stack[-1]:\n",
    "            s2 = stack.pop()\n",
    "\n",
    "        stack.append(nums[i])\n",
    "\n",
    "    return False\n"
   ]
  },
  {
   "cell_type": "code",
   "execution_count": null,
   "id": "59313e29",
   "metadata": {},
   "outputs": [],
   "source": []
  }
 ],
 "metadata": {
  "kernelspec": {
   "display_name": "Python 3 (ipykernel)",
   "language": "python",
   "name": "python3"
  },
  "language_info": {
   "codemirror_mode": {
    "name": "ipython",
    "version": 3
   },
   "file_extension": ".py",
   "mimetype": "text/x-python",
   "name": "python",
   "nbconvert_exporter": "python",
   "pygments_lexer": "ipython3",
   "version": "3.10.9"
  }
 },
 "nbformat": 4,
 "nbformat_minor": 5
}
