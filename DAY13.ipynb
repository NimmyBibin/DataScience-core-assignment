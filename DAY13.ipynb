{
 "cells": [
  {
   "cell_type": "markdown",
   "id": "b928e1d4",
   "metadata": {},
   "source": [
    "<aside>\n",
    "💡 **Question 1**\n",
    "\n",
    "Given two linked list of the same size, the task is to create a new linked list using those linked lists. The condition is that the greater node among both linked list will be added to the new linked list.\n",
    "\n",
    "</aside>"
   ]
  },
  {
   "cell_type": "code",
   "execution_count": 1,
   "id": "a954b873",
   "metadata": {},
   "outputs": [],
   "source": [
    "class ListNode:\n",
    "    def __init__(self, val=0, next=None):\n",
    "        self.val = val\n",
    "        self.next = next\n",
    "\n",
    "def createNewLinkedList(list1, list2):\n",
    "    if list1 is None:\n",
    "        return list2\n",
    "    if list2 is None:\n",
    "        return list1\n",
    "\n",
    "    result_head = None\n",
    "    current1 = list1\n",
    "    current2 = list2\n",
    "\n",
    "    while current1 is not None and current2 is not None:\n",
    "        if current1.val >= current2.val:\n",
    "            new_node = ListNode(current1.val)\n",
    "            current1 = current1.next\n",
    "        else:\n",
    "            new_node = ListNode(current2.val)\n",
    "            current2 = current2.next\n",
    "\n",
    "        if result_head is None:\n",
    "            result_head = new_node\n",
    "            current = result_head\n",
    "        else:\n",
    "            current.next = new_node\n",
    "            current = current.next\n",
    "\n",
    "    if current1 is not None:\n",
    "        current.next = current1\n",
    "    if current2 is not None:\n",
    "        current.next = current2\n",
    "\n",
    "    return result_head\n"
   ]
  },
  {
   "cell_type": "code",
   "execution_count": 2,
   "id": "6fa58ebc",
   "metadata": {},
   "outputs": [
    {
     "name": "stdout",
     "output_type": "stream",
     "text": [
      "2->4->6->8->1->3->5->7->NULL\n"
     ]
    }
   ],
   "source": [
    "# Example: list1: 1->3->5->7, list2: 2->4->6->8\n",
    "list1 = ListNode(1)\n",
    "list1.next = ListNode(3)\n",
    "list1.next.next = ListNode(5)\n",
    "list1.next.next.next = ListNode(7)\n",
    "\n",
    "list2 = ListNode(2)\n",
    "list2.next = ListNode(4)\n",
    "list2.next.next = ListNode(6)\n",
    "list2.next.next.next = ListNode(8)\n",
    "\n",
    "result_head = createNewLinkedList(list1, list2)\n",
    "# The new linked list will be 2->4->6->8\n",
    "\n",
    "# Print the new linked list\n",
    "current = result_head\n",
    "while current is not None:\n",
    "    print(current.val, end=\"->\")\n",
    "    current = current.next\n",
    "print(\"NULL\")\n"
   ]
  },
  {
   "cell_type": "markdown",
   "id": "b742673c",
   "metadata": {},
   "source": [
    "<aside>\n",
    "💡 **Question 2**\n",
    "\n",
    "Write a function that takes a list sorted in non-decreasing order and deletes any duplicate nodes from the list. The list should only be traversed once.\n",
    "\n",
    "For example if the linked list is 11->11->11->21->43->43->60 then removeDuplicates() should convert the list to 11->21->43->60.\n",
    "\n",
    "</aside>"
   ]
  },
  {
   "cell_type": "code",
   "execution_count": 3,
   "id": "9f9bf993",
   "metadata": {},
   "outputs": [],
   "source": [
    "class ListNode:\n",
    "    def __init__(self, val=0, next=None):\n",
    "        self.val = val\n",
    "        self.next = next\n",
    "\n",
    "def removeDuplicates(head):\n",
    "    if head is None or head.next is None:\n",
    "        return head\n",
    "\n",
    "    current = head\n",
    "    while current is not None and current.next is not None:\n",
    "        if current.val == current.next.val:\n",
    "            current.next = current.next.next\n",
    "        else:\n",
    "            current = current.next\n",
    "\n",
    "    return head\n"
   ]
  },
  {
   "cell_type": "code",
   "execution_count": 4,
   "id": "fdc6db53",
   "metadata": {},
   "outputs": [
    {
     "name": "stdout",
     "output_type": "stream",
     "text": [
      "11->21->43->60->NULL\n"
     ]
    }
   ],
   "source": [
    "# Example: 11->11->11->21->43->43->60\n",
    "head = ListNode(11)\n",
    "head.next = ListNode(11)\n",
    "head.next.next = ListNode(11)\n",
    "head.next.next.next = ListNode(21)\n",
    "head.next.next.next.next = ListNode(43)\n",
    "head.next.next.next.next.next = ListNode(43)\n",
    "head.next.next.next.next.next.next = ListNode(60)\n",
    "\n",
    "new_head = removeDuplicates(head)\n",
    "# After removing duplicates, the linked list is 11->21->43->60\n",
    "\n",
    "# Print the modified linked list\n",
    "current = new_head\n",
    "while current is not None:\n",
    "    print(current.val, end=\"->\")\n",
    "    current = current.next\n",
    "print(\"NULL\")\n"
   ]
  },
  {
   "cell_type": "markdown",
   "id": "cdca7033",
   "metadata": {},
   "source": [
    "<aside>\n",
    "💡 **Question 3**\n",
    "\n",
    "Given a linked list of size **N**. The task is to reverse every **k** nodes (where k is an input to the function) in the linked list. If the number of nodes is not a multiple of *k* then left-out nodes, in the end, should be considered as a group and must be reversed (See Example 2 for clarification).\n",
    "\n",
    "</aside>"
   ]
  },
  {
   "cell_type": "code",
   "execution_count": 5,
   "id": "453dbd36",
   "metadata": {},
   "outputs": [],
   "source": [
    "class ListNode:\n",
    "    def __init__(self, val=0, next=None):\n",
    "        self.val = val\n",
    "        self.next = next\n",
    "\n",
    "def reverseKNodes(head, k):\n",
    "    if head is None or head.next is None or k == 1:\n",
    "        return head\n",
    "\n",
    "    dummy = ListNode(0)  # Dummy node to handle the case when k = 1\n",
    "    dummy.next = head\n",
    "\n",
    "    prev = dummy\n",
    "    current = head\n",
    "    next = None\n",
    "\n",
    "    count = 0\n",
    "    while current is not None:\n",
    "        count += 1\n",
    "        next = current.next\n",
    "\n",
    "        if count % k == 0:\n",
    "            prev = reverseGroup(prev, next)\n",
    "        current = next\n",
    "\n",
    "    return dummy.next\n",
    "\n",
    "def reverseGroup(prev, next):\n",
    "    last = prev.next\n",
    "    current = last.next\n",
    "\n",
    "    while current is not next:\n",
    "        last.next = current.next\n",
    "        current.next = prev.next\n",
    "        prev.next = current\n",
    "        current = last.next\n",
    "\n",
    "    return last\n"
   ]
  },
  {
   "cell_type": "code",
   "execution_count": 6,
   "id": "5e00ea6f",
   "metadata": {},
   "outputs": [
    {
     "name": "stdout",
     "output_type": "stream",
     "text": [
      "3->2->1->6->5->4->7->8->NULL\n",
      "4->3->2->1->8->7->6->5->9->NULL\n"
     ]
    }
   ],
   "source": [
    "# Example 1: 1->2->3->4->5->6->7->8->NULL, k = 3\n",
    "head1 = ListNode(1)\n",
    "head1.next = ListNode(2)\n",
    "head1.next.next = ListNode(3)\n",
    "head1.next.next.next = ListNode(4)\n",
    "head1.next.next.next.next = ListNode(5)\n",
    "head1.next.next.next.next.next = ListNode(6)\n",
    "head1.next.next.next.next.next.next = ListNode(7)\n",
    "head1.next.next.next.next.next.next.next = ListNode(8)\n",
    "\n",
    "new_head1 = reverseKNodes(head1, 3)\n",
    "# After reversing every 3 nodes, the linked list becomes 3->2->1->6->5->4->7->8->NULL\n",
    "\n",
    "# Print the modified linked list\n",
    "current = new_head1\n",
    "while current is not None:\n",
    "    print(current.val, end=\"->\")\n",
    "    current = current.next\n",
    "print(\"NULL\")\n",
    "\n",
    "# Example 2: 1->2->3->4->5->6->7->8->9->NULL, k = 4\n",
    "head2 = ListNode(1)\n",
    "head2.next = ListNode(2)\n",
    "head2.next.next = ListNode(3)\n",
    "head2.next.next.next = ListNode(4)\n",
    "head2.next.next.next.next = ListNode(5)\n",
    "head2.next.next.next.next.next = ListNode(6)\n",
    "head2.next.next.next.next.next.next = ListNode(7)\n",
    "head2.next.next.next.next.next.next.next = ListNode(8)\n",
    "head2.next.next.next.next.next.next.next.next = ListNode(9)\n",
    "\n",
    "new_head2 = reverseKNodes(head2, 4)\n",
    "# After reversing every 4 nodes, the linked list becomes 4->3->2->1->8->7->6->5->9->NULL\n",
    "\n",
    "# Print the modified linked list\n",
    "current = new_head2\n",
    "while current is not None:\n",
    "    print(current.val, end=\"->\")\n",
    "    current = current.next\n",
    "print(\"NULL\")\n"
   ]
  },
  {
   "cell_type": "markdown",
   "id": "9f83f5e8",
   "metadata": {},
   "source": [
    "<aside>\n",
    "💡 **Question 4**\n",
    "\n",
    "Given a linked list, write a function to reverse every alternate k nodes (where k is an input to the function) in an efficient way. Give the complexity of your algorithm.\n",
    "\n",
    "</aside>"
   ]
  },
  {
   "cell_type": "code",
   "execution_count": 7,
   "id": "0197c927",
   "metadata": {},
   "outputs": [],
   "source": [
    "class ListNode:\n",
    "    def __init__(self, val=0, next=None):\n",
    "        self.val = val\n",
    "        self.next = next\n",
    "\n",
    "def reverseAlternateKNodes(head, k):\n",
    "    if head is None or head.next is None or k == 1:\n",
    "        return head\n",
    "\n",
    "    prev = None\n",
    "    current = head\n",
    "    next = None\n",
    "    count = 0\n",
    "\n",
    "    # Reverse first k nodes\n",
    "    while current is not None and count < k:\n",
    "        next = current.next\n",
    "        current.next = prev\n",
    "        prev = current\n",
    "        current = next\n",
    "        count += 1\n",
    "\n",
    "    # Point the next of the first k nodes to the (k + 1)th node\n",
    "    head.next = current\n",
    "\n",
    "    # Skip next k nodes\n",
    "    count = 0\n",
    "    while current is not None and count < k - 1:\n",
    "        current = current.next\n",
    "        count += 1\n",
    "\n",
    "    # Recursively reverse the next k nodes\n",
    "    if current is not None:\n",
    "        current.next = reverseAlternateKNodes(current.next, k)\n",
    "\n",
    "    return prev\n"
   ]
  },
  {
   "cell_type": "code",
   "execution_count": 8,
   "id": "b6d308ff",
   "metadata": {},
   "outputs": [
    {
     "name": "stdout",
     "output_type": "stream",
     "text": [
      "3->2->1->4->5->6->9->8->7->NULL\n"
     ]
    }
   ],
   "source": [
    "# Example: 1->2->3->4->5->6->7->8->9->NULL, k = 3\n",
    "head = ListNode(1)\n",
    "head.next = ListNode(2)\n",
    "head.next.next = ListNode(3)\n",
    "head.next.next.next = ListNode(4)\n",
    "head.next.next.next.next = ListNode(5)\n",
    "head.next.next.next.next.next = ListNode(6)\n",
    "head.next.next.next.next.next.next = ListNode(7)\n",
    "head.next.next.next.next.next.next.next = ListNode(8)\n",
    "head.next.next.next.next.next.next.next.next = ListNode(9)\n",
    "\n",
    "new_head = reverseAlternateKNodes(head, 3)\n",
    "# After reversing every alternate 3 nodes, the linked list becomes 3->2->1->4->5->6->9->8->7->NULL\n",
    "\n",
    "# Print the modified linked list\n",
    "current = new_head\n",
    "while current is not None:\n",
    "    print(current.val, end=\"->\")\n",
    "    current = current.next\n",
    "print(\"NULL\")\n"
   ]
  },
  {
   "cell_type": "markdown",
   "id": "0f171373",
   "metadata": {},
   "source": [
    "<aside>\n",
    "💡 **Question 5**\n",
    "\n",
    "Given a linked list and a key to be deleted. Delete last occurrence of key from linked. The list may have duplicates.\n",
    "\n",
    "</aside>"
   ]
  },
  {
   "cell_type": "code",
   "execution_count": 9,
   "id": "f5f7b146",
   "metadata": {},
   "outputs": [],
   "source": [
    "class ListNode:\n",
    "    def __init__(self, val=0, next=None):\n",
    "        self.val = val\n",
    "        self.next = next\n",
    "\n",
    "def deleteLastOccurrence(head, key):\n",
    "    if head is None:\n",
    "        return None\n",
    "\n",
    "    prev_key = None\n",
    "    prev = None\n",
    "    current = head\n",
    "\n",
    "    while current is not None:\n",
    "        if current.val == key:\n",
    "            prev_key = prev\n",
    "        prev = current\n",
    "        current = current.next\n",
    "\n",
    "    if prev_key is None:\n",
    "        return head\n",
    "\n",
    "    if prev_key is None:\n",
    "        head = head.next\n",
    "    else:\n",
    "        prev_key.next = prev_key.next.next\n",
    "\n",
    "    return head\n"
   ]
  },
  {
   "cell_type": "code",
   "execution_count": 10,
   "id": "37561306",
   "metadata": {},
   "outputs": [
    {
     "name": "stdout",
     "output_type": "stream",
     "text": [
      "1->2->3->4->2->5->NULL\n"
     ]
    }
   ],
   "source": [
    "# Example: 1->2->3->4->2->5->2->NULL, key = 2\n",
    "head = ListNode(1)\n",
    "head.next = ListNode(2)\n",
    "head.next.next = ListNode(3)\n",
    "head.next.next.next = ListNode(4)\n",
    "head.next.next.next.next = ListNode(2)\n",
    "head.next.next.next.next.next = ListNode(5)\n",
    "head.next.next.next.next.next.next = ListNode(2)\n",
    "\n",
    "new_head = deleteLastOccurrence(head, 2)\n",
    "# After deleting the last occurrence of 2, the linked list becomes 1->2->3->4->2->5->NULL\n",
    "\n",
    "# Print the modified linked list\n",
    "current = new_head\n",
    "while current is not None:\n",
    "    print(current.val, end=\"->\")\n",
    "    current = current.next\n",
    "print(\"NULL\")\n"
   ]
  },
  {
   "cell_type": "markdown",
   "id": "7188035c",
   "metadata": {},
   "source": [
    "<aside>\n",
    "💡 **Question 6**\n",
    "\n",
    "Given two sorted linked lists consisting of **N** and **M** nodes respectively. The task is to merge both of the lists (in place) and return the head of the merged list.\n",
    "\n",
    "</aside>"
   ]
  },
  {
   "cell_type": "code",
   "execution_count": 12,
   "id": "6ce07983",
   "metadata": {},
   "outputs": [],
   "source": [
    "class ListNode:\n",
    "    def __init__(self, val=0, next=None):\n",
    "        self.val = val\n",
    "        self.next = next\n",
    "\n",
    "def mergeTwoLists(list1, list2):\n",
    "    if list1 is None:\n",
    "        return list2\n",
    "    if list2 is None:\n",
    "        return list1\n",
    "\n",
    "    dummy = ListNode(0)  # Dummy node for the merged list\n",
    "    result = dummy\n",
    "\n",
    "    while list1 is not None and list2 is not None:\n",
    "        if list1.val <= list2.val:\n",
    "            result.next = list1\n",
    "            list1 = list1.next\n",
    "        else:\n",
    "            result.next = list2\n",
    "            list2 = list2.next\n",
    "        result = result.next\n",
    "\n",
    "    if list1 is not None:\n",
    "        result.next = list1\n",
    "\n",
    "    if list2 is not None:\n",
    "        result.next = list2\n",
    "\n",
    "    return dummy.next\n"
   ]
  },
  {
   "cell_type": "code",
   "execution_count": 13,
   "id": "4f2c2fa1",
   "metadata": {},
   "outputs": [
    {
     "name": "stdout",
     "output_type": "stream",
     "text": [
      "1->2->3->4->5->6->7->8->NULL\n"
     ]
    }
   ],
   "source": [
    "# Example: list1: 1->3->5->7, list2: 2->4->6->8\n",
    "list1 = ListNode(1)\n",
    "list1.next = ListNode(3)\n",
    "list1.next.next = ListNode(5)\n",
    "list1.next.next.next = ListNode(7)\n",
    "\n",
    "list2 = ListNode(2)\n",
    "list2.next = ListNode(4)\n",
    "list2.next.next = ListNode(6)\n",
    "list2.next.next.next = ListNode(8)\n",
    "\n",
    "merged_head = mergeTwoLists(list1, list2)\n",
    "# After merging, the linked list becomes 1->2->3->4->5->6->7->8->NULL\n",
    "\n",
    "# Print the merged linked list\n",
    "current = merged_head\n",
    "while current is not None:\n",
    "    print(current.val, end=\"->\")\n",
    "    current = current.next\n",
    "print(\"NULL\")\n"
   ]
  },
  {
   "cell_type": "markdown",
   "id": "56689445",
   "metadata": {},
   "source": [
    "<aside>\n",
    "💡 **Question 7**\n",
    "\n",
    "Given a **Doubly Linked List**, the task is to reverse the given Doubly Linked List.\n",
    "\n",
    "</aside>"
   ]
  },
  {
   "cell_type": "code",
   "execution_count": 14,
   "id": "e01e2e7d",
   "metadata": {},
   "outputs": [],
   "source": [
    "class Node:\n",
    "    def __init__(self, val):\n",
    "        self.val = val\n",
    "        self.prev = None\n",
    "        self.next = None\n",
    "\n",
    "def reverseDoublyLinkedList(head):\n",
    "    if head is None or head.next is None:\n",
    "        return head\n",
    "\n",
    "    current = head\n",
    "    temp = None\n",
    "\n",
    "    while current is not None:\n",
    "        temp = current.prev\n",
    "        current.prev = current.next\n",
    "        current.next = temp\n",
    "        current = current.prev\n",
    "\n",
    "    if temp is not None:\n",
    "        head = temp.prev\n",
    "\n",
    "    return head\n"
   ]
  },
  {
   "cell_type": "code",
   "execution_count": 15,
   "id": "b164bc78",
   "metadata": {},
   "outputs": [
    {
     "name": "stdout",
     "output_type": "stream",
     "text": [
      "5<->4<->3<->2<->1<->NULL\n",
      "1<->2<->3<->4<->5<->NULL\n"
     ]
    }
   ],
   "source": [
    "# Example: 1<->2<->3<->4<->5<->NULL\n",
    "head = Node(1)\n",
    "head.next = Node(2)\n",
    "head.next.prev = head\n",
    "head.next.next = Node(3)\n",
    "head.next.next.prev = head.next\n",
    "head.next.next.next = Node(4)\n",
    "head.next.next.next.prev = head.next.next\n",
    "head.next.next.next.next = Node(5)\n",
    "head.next.next.next.next.prev = head.next.next.next\n",
    "\n",
    "reversed_head = reverseDoublyLinkedList(head)\n",
    "# After reversing, the doubly linked list becomes 5<->4<->3<->2<->1<->NULL\n",
    "\n",
    "# Print the reversed doubly linked list forward\n",
    "current = reversed_head\n",
    "while current is not None:\n",
    "    print(current.val, end=\"<->\")\n",
    "    current = current.next\n",
    "print(\"NULL\")\n",
    "\n",
    "# Print the reversed doubly linked list backward\n",
    "current = reversed_head\n",
    "while current.next is not None:\n",
    "    current = current.next\n",
    "while current is not None:\n",
    "    print(current.val, end=\"<->\")\n",
    "    current = current.prev\n",
    "print(\"NULL\")\n"
   ]
  },
  {
   "cell_type": "markdown",
   "id": "3fd0b8f3",
   "metadata": {},
   "source": [
    "<aside>\n",
    "💡 **Question 8**\n",
    "\n",
    "Given a doubly linked list and a position. The task is to delete a node from given position in a doubly linked list.\n",
    "\n",
    "</aside>"
   ]
  },
  {
   "cell_type": "code",
   "execution_count": 16,
   "id": "b31e89ab",
   "metadata": {},
   "outputs": [],
   "source": [
    "class Node:\n",
    "    def __init__(self, val):\n",
    "        self.val = val\n",
    "        self.prev = None\n",
    "        self.next = None\n",
    "\n",
    "def deleteNode(head, position):\n",
    "    if head is None:\n",
    "        return None\n",
    "\n",
    "    if position == 0:\n",
    "        head = head.next\n",
    "        if head is not None:\n",
    "            head.prev = None\n",
    "        return head\n",
    "\n",
    "    current = head\n",
    "    count = 0\n",
    "\n",
    "    while current is not None:\n",
    "        if count == position:\n",
    "            if current.next is not None:\n",
    "                current.next.prev = current.prev\n",
    "            if current.prev is not None:\n",
    "                current.prev.next = current.next\n",
    "            break\n",
    "        current = current.next\n",
    "        count += 1\n",
    "\n",
    "    return head\n"
   ]
  },
  {
   "cell_type": "code",
   "execution_count": 17,
   "id": "737eb12e",
   "metadata": {},
   "outputs": [
    {
     "name": "stdout",
     "output_type": "stream",
     "text": [
      "1<->2<->4<->5<->NULL\n",
      "5<->4<->2<->1<->NULL\n"
     ]
    }
   ],
   "source": [
    "# Example: 1<->2<->3<->4<->5<->NULL, position = 2\n",
    "head = Node(1)\n",
    "head.next = Node(2)\n",
    "head.next.prev = head\n",
    "head.next.next = Node(3)\n",
    "head.next.next.prev = head.next\n",
    "head.next.next.next = Node(4)\n",
    "head.next.next.next.prev = head.next.next\n",
    "head.next.next.next.next = Node(5)\n",
    "head.next.next.next.next.prev = head.next.next.next\n",
    "\n",
    "new_head = deleteNode(head, 2)\n",
    "# After deleting the node at position 2, the doubly linked list becomes 1<->2<->4<->5<->NULL\n",
    "\n",
    "# Print the modified doubly linked list forward\n",
    "current = new_head\n",
    "while current is not None:\n",
    "    print(current.val, end=\"<->\")\n",
    "    current = current.next\n",
    "print(\"NULL\")\n",
    "\n",
    "# Print the modified doubly linked list backward\n",
    "current = new_head\n",
    "while current.next is not None:\n",
    "    current = current.next\n",
    "while current is not None:\n",
    "    print(current.val, end=\"<->\")\n",
    "    current = current.prev\n",
    "print(\"NULL\")\n"
   ]
  },
  {
   "cell_type": "code",
   "execution_count": null,
   "id": "58667383",
   "metadata": {},
   "outputs": [],
   "source": []
  }
 ],
 "metadata": {
  "kernelspec": {
   "display_name": "Python 3 (ipykernel)",
   "language": "python",
   "name": "python3"
  },
  "language_info": {
   "codemirror_mode": {
    "name": "ipython",
    "version": 3
   },
   "file_extension": ".py",
   "mimetype": "text/x-python",
   "name": "python",
   "nbconvert_exporter": "python",
   "pygments_lexer": "ipython3",
   "version": "3.10.9"
  }
 },
 "nbformat": 4,
 "nbformat_minor": 5
}
