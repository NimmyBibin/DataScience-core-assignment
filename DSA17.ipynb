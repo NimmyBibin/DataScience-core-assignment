{
 "cells": [
  {
   "cell_type": "markdown",
   "id": "e9ea162f",
   "metadata": {},
   "source": [
    "<aside>\n",
    "💡 **Question 1**\n",
    "\n",
    "Given a string `s`, *find the first non-repeating character in it and return its index*. If it does not exist, return `-1`.\n",
    "\n",
    "</aside>"
   ]
  },
  {
   "cell_type": "code",
   "execution_count": 1,
   "id": "f059768f",
   "metadata": {},
   "outputs": [
    {
     "name": "stdout",
     "output_type": "stream",
     "text": [
      "First non-repeating character index: 0\n"
     ]
    }
   ],
   "source": [
    "def first_uniq_char(s):\n",
    "    char_frequency = {}\n",
    "\n",
    "    # Update frequency of each character\n",
    "    for char in s:\n",
    "        char_frequency[char] = char_frequency.get(char, 0) + 1\n",
    "\n",
    "    # Find first character with frequency 1\n",
    "    for i in range(len(s)):\n",
    "        if char_frequency[s[i]] == 1:\n",
    "            return i\n",
    "\n",
    "    return -1\n",
    "\n",
    "# Example usage:\n",
    "string = \"leetcode\"\n",
    "result = first_uniq_char(string)\n",
    "print(\"First non-repeating character index:\", result)\n"
   ]
  },
  {
   "cell_type": "markdown",
   "id": "1136e386",
   "metadata": {},
   "source": [
    "<aside>\n",
    "💡 **Question 2**\n",
    "\n",
    "Given a **circular integer array** `nums` of length `n`, return *the maximum possible sum of a non-empty **subarray** of* `nums`.\n",
    "\n",
    "A **circular array** means the end of the array connects to the beginning of the array. Formally, the next element of `nums[i]` is `nums[(i + 1) % n]` and the previous element of `nums[i]` is `nums[(i - 1 + n) % n]`.\n",
    "\n",
    "A **subarray** may only include each element of the fixed buffer `nums` at most once. Formally, for a subarray `nums[i], nums[i + 1], ..., nums[j]`, there does not exist `i <= k1`, `k2 <= j` with `k1 % n == k2 % n`.\n",
    "\n",
    "</aside>"
   ]
  },
  {
   "cell_type": "code",
   "execution_count": 2,
   "id": "845fcd96",
   "metadata": {},
   "outputs": [
    {
     "name": "stdout",
     "output_type": "stream",
     "text": [
      "Maximum subarray sum: 14\n"
     ]
    }
   ],
   "source": [
    "def max_subarray_sum_circular(nums):\n",
    "    max_sum = nums[0]\n",
    "    curr_max = nums[0]\n",
    "    total_sum = nums[0]\n",
    "    curr_min = nums[0]\n",
    "\n",
    "    for i in range(1, len(nums)):\n",
    "        curr_max = max(nums[i], curr_max + nums[i])\n",
    "        max_sum = max(max_sum, curr_max)\n",
    "        curr_min = min(nums[i], curr_min + nums[i])\n",
    "        total_sum += nums[i]\n",
    "\n",
    "    if total_sum == curr_min:\n",
    "        return max_sum\n",
    "\n",
    "    return max(max_sum, total_sum - curr_min)\n",
    "\n",
    "# Example usage:\n",
    "nums = [8, -1, 3, 4]\n",
    "max_sum = max_subarray_sum_circular(nums)\n",
    "print(\"Maximum subarray sum:\", max_sum)\n"
   ]
  },
  {
   "cell_type": "markdown",
   "id": "d2fef823",
   "metadata": {},
   "source": [
    "<aside>\n",
    "💡 **Question 3**\n",
    "\n",
    "The school cafeteria offers circular and square sandwiches at lunch break, referred to by numbers `0` and `1` respectively. All students stand in a queue. Each student either prefers square or circular sandwiches.\n",
    "\n",
    "The number of sandwiches in the cafeteria is equal to the number of students. The sandwiches are placed in a **stack**. At each step:\n",
    "\n",
    "- If the student at the front of the queue **prefers** the sandwich on the top of the stack, they will **take it** and leave the queue.\n",
    "- Otherwise, they will **leave it** and go to the queue's end.\n",
    "\n",
    "This continues until none of the queue students want to take the top sandwich and are thus unable to eat.\n",
    "\n",
    "You are given two integer arrays `students` and `sandwiches` where `sandwiches[i]` is the type of the `ith` sandwich in the stack (`i = 0` is the top of the stack) and `students[j]` is the preference of the `jth` student in the initial queue (`j = 0` is the front of the queue). Return *the number of students that are unable to eat.*\n",
    "\n",
    "</aside>"
   ]
  },
  {
   "cell_type": "code",
   "execution_count": 3,
   "id": "a4f965d0",
   "metadata": {},
   "outputs": [
    {
     "name": "stdout",
     "output_type": "stream",
     "text": [
      "Number of students unable to eat: 0\n"
     ]
    }
   ],
   "source": [
    "from collections import deque\n",
    "\n",
    "def count_students_unable_to_eat(students, sandwiches):\n",
    "    student_queue = deque(students)\n",
    "    sandwich_queue = deque(sandwiches)\n",
    "\n",
    "    while student_queue and sandwich_queue:\n",
    "        if student_queue[0] == sandwich_queue[0]:\n",
    "            student_queue.popleft()\n",
    "            sandwich_queue.popleft()\n",
    "        else:\n",
    "            student_queue.append(student_queue.popleft())\n",
    "\n",
    "    return len(student_queue)\n",
    "\n",
    "# Example usage:\n",
    "students = [1,1,0,0]\n",
    "sandwiches = [0,1,0,1]\n",
    "unable_to_eat = count_students_unable_to_eat(students, sandwiches)\n",
    "print(\"Number of students unable to eat:\", unable_to_eat)\n"
   ]
  },
  {
   "cell_type": "markdown",
   "id": "cfd8b0e9",
   "metadata": {},
   "source": [
    "<aside>\n",
    "💡 **Question 4**\n",
    "\n",
    "You have a `RecentCounter` class which counts the number of recent requests within a certain time frame.\n",
    "\n",
    "Implement the `RecentCounter` class:\n",
    "\n",
    "- `RecentCounter()` Initializes the counter with zero recent requests.\n",
    "- `int ping(int t)` Adds a new request at time `t`, where `t` represents some time in milliseconds, and returns the number of requests that has happened in the past `3000` milliseconds (including the new request). Specifically, return the number of requests that have happened in the inclusive range `[t - 3000, t]`.\n",
    "\n",
    "It is **guaranteed** that every call to `ping` uses a strictly larger value of `t` than the previous call.\n",
    "\n",
    "</aside>"
   ]
  },
  {
   "cell_type": "code",
   "execution_count": 4,
   "id": "3364382a",
   "metadata": {},
   "outputs": [],
   "source": [
    "class RecentCounter:\n",
    "    def __init__(self):\n",
    "        self.requests = []\n",
    "\n",
    "    def ping(self, t: int) -> int:\n",
    "        self.requests.append(t)\n",
    "        start_time = t - 3000\n",
    "\n",
    "        while self.requests[0] < start_time:\n",
    "            self.requests.pop(0)\n",
    "\n",
    "        return len(self.requests)\n"
   ]
  },
  {
   "cell_type": "markdown",
   "id": "de1b082a",
   "metadata": {},
   "source": [
    "There are `n` friends that are playing a game. The friends are sitting in a circle and are numbered from `1` to `n` in **clockwise order**. More formally, moving clockwise from the `ith` friend brings you to the `(i+1)th` friend for `1 <= i < n`, and moving clockwise from the `nth` friend brings you to the `1st` friend.\n",
    "\n",
    "The rules of the game are as follows:\n",
    "\n",
    "1. **Start** at the `1st` friend.\n",
    "2. Count the next `k` friends in the clockwise direction **including** the friend you started at. The counting wraps around the circle and may count some friends more than once.\n",
    "3. The last friend you counted leaves the circle and loses the game.\n",
    "4. If there is still more than one friend in the circle, go back to step `2` **starting** from the friend **immediately clockwise** of the friend who just lost and repeat.\n",
    "5. Else, the last friend in the circle wins the game.\n",
    "\n",
    "Given the number of friends, `n`, and an integer `k`, return *the winner of the game*."
   ]
  },
  {
   "cell_type": "code",
   "execution_count": 5,
   "id": "b65be9e1",
   "metadata": {},
   "outputs": [
    {
     "name": "stdout",
     "output_type": "stream",
     "text": [
      "Winner: 3\n"
     ]
    }
   ],
   "source": [
    "def find_winner(n, k):\n",
    "    if n == 1:\n",
    "        return 1\n",
    "    if k == 1:\n",
    "        return n\n",
    "    if k > n:\n",
    "        k = k % n\n",
    "        if k == 0:\n",
    "            k = n\n",
    "    winner = find_winner(n - 1, k)\n",
    "    return (winner + k - 1) % n + 1\n",
    "\n",
    "# Example usage:\n",
    "n = 5\n",
    "k = 2\n",
    "winner = find_winner(n, k)\n",
    "print(\"Winner:\", winner)\n"
   ]
  },
  {
   "cell_type": "markdown",
   "id": "796eb50d",
   "metadata": {},
   "source": [
    "<aside>\n",
    "💡 **Question 6**\n",
    "\n",
    "You are given an integer array `deck`. There is a deck of cards where every card has a unique integer. The integer on the `ith` card is `deck[i]`.\n",
    "\n",
    "You can order the deck in any order you want. Initially, all the cards start face down (unrevealed) in one deck.\n",
    "\n",
    "You will do the following steps repeatedly until all cards are revealed:\n",
    "\n",
    "1. Take the top card of the deck, reveal it, and take it out of the deck.\n",
    "2. If there are still cards in the deck then put the next top card of the deck at the bottom of the deck.\n",
    "3. If there are still unrevealed cards, go back to step 1. Otherwise, stop.\n",
    "\n",
    "Return *an ordering of the deck that would reveal the cards in increasing order*.\n",
    "\n",
    "**Note** that the first entry in the answer is considered to be the top of the deck.\n",
    "\n",
    "</aside>"
   ]
  },
  {
   "cell_type": "code",
   "execution_count": 6,
   "id": "7ea12f55",
   "metadata": {},
   "outputs": [
    {
     "name": "stdout",
     "output_type": "stream",
     "text": [
      "Ordering: [2, 13, 3, 11, 5, 17, 7]\n"
     ]
    }
   ],
   "source": [
    "from collections import deque\n",
    "\n",
    "def reveal_cards_increasing_order(deck):\n",
    "    deck.sort()  # Sort the deck in ascending order\n",
    "    n = len(deck)\n",
    "    queue = deque(range(n))\n",
    "    stack = []\n",
    "    \n",
    "    while queue:\n",
    "        index = queue.popleft()\n",
    "        stack.append(index)\n",
    "        if queue:\n",
    "            index = queue.popleft()\n",
    "            queue.append(index)\n",
    "    \n",
    "    ordering = [0] * n\n",
    "    for i in stack:\n",
    "        ordering[i] = deck.pop(0)\n",
    "    \n",
    "    return ordering\n",
    "\n",
    "# Example usage:\n",
    "deck = [17, 13, 11, 2, 3, 5, 7]\n",
    "ordering = reveal_cards_increasing_order(deck)\n",
    "print(\"Ordering:\", ordering)\n"
   ]
  },
  {
   "cell_type": "markdown",
   "id": "00f92e71",
   "metadata": {},
   "source": [
    "<aside>\n",
    "💡 **Question 7**\n",
    "\n",
    "Design a queue that supports `push` and `pop` operations in the front, middle, and back.\n",
    "\n",
    "Implement the `FrontMiddleBack` class:\n",
    "\n",
    "- `FrontMiddleBack()` Initializes the queue.\n",
    "- `void pushFront(int val)` Adds `val` to the **front** of the queue.\n",
    "- `void pushMiddle(int val)` Adds `val` to the **middle** of the queue.\n",
    "- `void pushBack(int val)` Adds `val` to the **back** of the queue.\n",
    "- `int popFront()` Removes the **front** element of the queue and returns it. If the queue is empty, return `1`.\n",
    "- `int popMiddle()` Removes the **middle** element of the queue and returns it. If the queue is empty, return `1`.\n",
    "- `int popBack()` Removes the **back** element of the queue and returns it. If the queue is empty, return `1`.\n",
    "\n",
    "**Notice** that when there are **two** middle position choices, the operation is performed on the **frontmost** middle position choice. For example:\n",
    "\n",
    "- Pushing `6` into the middle of `[1, 2, 3, 4, 5]` results in `[1, 2, 6, 3, 4, 5]`.\n",
    "- Popping the middle from `[1, 2, 3, 4, 5, 6]` returns `3` and results in `[1, 2, 4, 5, 6]`.\n",
    "</aside>"
   ]
  },
  {
   "cell_type": "code",
   "execution_count": 8,
   "id": "57c06231",
   "metadata": {},
   "outputs": [],
   "source": [
    "from collections import deque\n",
    "\n",
    "class FrontMiddleBack:\n",
    "    def __init__(self):\n",
    "        self.queue = deque()\n",
    "\n",
    "    def pushFront(self, val: int) -> None:\n",
    "        self.queue.appendleft(val)\n",
    "\n",
    "    def pushMiddle(self, val: int) -> None:\n",
    "        middle = len(self.queue) // 2\n",
    "        self.queue.insert(middle, val)\n",
    "\n",
    "    def pushBack(self, val: int) -> None:\n",
    "        self.queue.append(val)\n",
    "\n",
    "    def popFront(self) -> int:\n",
    "        if self.queue:\n",
    "            return self.queue.popleft()\n",
    "        else:\n",
    "            return -1\n",
    "\n",
    "    def popMiddle(self) -> int:\n",
    "        if self.queue:\n",
    "            middle = (len(self.queue) - 1) // 2\n",
    "            return self.queue.pop(middle)\n",
    "        else:\n",
    "            return -1\n",
    "\n",
    "    def popBack(self) -> int:\n",
    "        if self.queue:\n",
    "            return self.queue.pop()\n",
    "        else:\n",
    "            return -1\n"
   ]
  },
  {
   "cell_type": "markdown",
   "id": "7509cb3a",
   "metadata": {},
   "source": [
    "For a stream of integers, implement a data structure that checks if the last `k` integers parsed in the stream are **equal** to `value`.\n",
    "\n",
    "Implement the **DataStream** class:\n",
    "\n",
    "- `DataStream(int value, int k)` Initializes the object with an empty integer stream and the two integers `value` and `k`.\n",
    "- `boolean consec(int num)` Adds `num` to the stream of integers. Returns `true` if the last `k` integers are equal to `value`, and `false` otherwise. If there are less than `k` integers, the condition does not hold true, so returns `false`."
   ]
  },
  {
   "cell_type": "code",
   "execution_count": 9,
   "id": "75de6be6",
   "metadata": {},
   "outputs": [],
   "source": [
    "from collections import deque\n",
    "\n",
    "class DataStream:\n",
    "    def __init__(self, value: int, k: int):\n",
    "        self.stream = deque(maxlen=k)  # Use a deque with fixed size k\n",
    "        self.value = value\n",
    "        self.k = k\n",
    "\n",
    "    def consec(self, num: int) -> bool:\n",
    "        self.stream.append(num)  # Append num to the stream\n",
    "\n",
    "        if len(self.stream) < self.k:  # If there are less than k integers, return False\n",
    "            return False\n",
    "\n",
    "        return list(self.stream) == [self.value] * self.k  # Check if the last k integers are equal to value\n"
   ]
  },
  {
   "cell_type": "code",
   "execution_count": null,
   "id": "37a6d16e",
   "metadata": {},
   "outputs": [],
   "source": []
  }
 ],
 "metadata": {
  "kernelspec": {
   "display_name": "Python 3 (ipykernel)",
   "language": "python",
   "name": "python3"
  },
  "language_info": {
   "codemirror_mode": {
    "name": "ipython",
    "version": 3
   },
   "file_extension": ".py",
   "mimetype": "text/x-python",
   "name": "python",
   "nbconvert_exporter": "python",
   "pygments_lexer": "ipython3",
   "version": "3.10.9"
  }
 },
 "nbformat": 4,
 "nbformat_minor": 5
}
