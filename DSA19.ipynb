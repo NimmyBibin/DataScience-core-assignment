{
 "cells": [
  {
   "cell_type": "code",
   "execution_count": 3,
   "id": "5d7fc1e3",
   "metadata": {},
   "outputs": [],
   "source": [
    "#1.\n",
    "class ListNode:\n",
    "    def __init__(self, val=0, next=None):\n",
    "        self.val = val\n",
    "        self.next = next\n",
    "\n",
    "def mergeTwoLists(l1, l2):\n",
    "    dummy = ListNode()\n",
    "    curr = dummy\n",
    "\n",
    "    while l1 and l2:\n",
    "        if l1.val <= l2.val:\n",
    "            curr.next = l1\n",
    "            l1 = l1.next\n",
    "        else:\n",
    "            curr.next = l2\n",
    "            l2 = l2.next\n",
    "        curr = curr.next\n",
    "\n",
    "    if l1:\n",
    "        curr.next = l1\n",
    "    else:\n",
    "        curr.next = l2\n",
    "\n",
    "    return dummy.next\n",
    "\n",
    "def mergeKLists(lists):\n",
    "    if not lists:\n",
    "        return None\n",
    "\n",
    "    while len(lists) > 1:\n",
    "        merged_lists = []\n",
    "        for i in range(0, len(lists), 2):\n",
    "            if i + 1 < len(lists):\n",
    "                merged = mergeTwoLists(lists[i], lists[i + 1])\n",
    "                merged_lists.append(merged)\n",
    "            else:\n",
    "                merged_lists.append(lists[i])\n",
    "        lists = merged_lists\n",
    "\n",
    "    return lists[0]\n"
   ]
  },
  {
   "cell_type": "code",
   "execution_count": 4,
   "id": "67c19d4b",
   "metadata": {},
   "outputs": [
    {
     "name": "stdout",
     "output_type": "stream",
     "text": [
      "[1, 1, 2, 3, 4, 4, 5, 6]\n"
     ]
    }
   ],
   "source": [
    "lists = [\n",
    "    ListNode(1, ListNode(4, ListNode(5))),\n",
    "    ListNode(1, ListNode(3, ListNode(4))),\n",
    "    ListNode(2, ListNode(6))\n",
    "]\n",
    "\n",
    "result = mergeKLists(lists)\n",
    "output = []\n",
    "while result:\n",
    "    output.append(result.val)\n",
    "    result = result.next\n",
    "\n",
    "print(output)  # Output: [1, 1, 2, 3, 4, 4, 5, 6]\n"
   ]
  },
  {
   "cell_type": "code",
   "execution_count": 5,
   "id": "cc0f4b90",
   "metadata": {},
   "outputs": [],
   "source": [
    "#2.\n",
    "def countSmaller(nums):\n",
    "    def mergeAndCount(left, right):\n",
    "        merged = []\n",
    "        count = 0\n",
    "        i, j = 0, 0\n",
    "\n",
    "        while i < len(left) and j < len(right):\n",
    "            if left[i][1] <= right[j][1]:\n",
    "                merged.append(left[i])\n",
    "                counts[left[i][0]] += count\n",
    "                i += 1\n",
    "            else:\n",
    "                merged.append(right[j])\n",
    "                count += 1\n",
    "                j += 1\n",
    "\n",
    "        while i < len(left):\n",
    "            merged.append(left[i])\n",
    "            counts[left[i][0]] += count\n",
    "            i += 1\n",
    "\n",
    "        while j < len(right):\n",
    "            merged.append(right[j])\n",
    "            j += 1\n",
    "\n",
    "        return merged\n",
    "\n",
    "    def mergeSort(nums):\n",
    "        if len(nums) <= 1:\n",
    "            return nums\n",
    "\n",
    "        mid = len(nums) // 2\n",
    "        left = mergeSort(nums[:mid])\n",
    "        right = mergeSort(nums[mid:])\n",
    "        return mergeAndCount(left, right)\n",
    "\n",
    "    counts = [0] * len(nums)\n",
    "    nums = list(enumerate(nums))  # Add indices to elements for tracking original positions\n",
    "    mergeSort(nums)\n",
    "    return counts\n"
   ]
  },
  {
   "cell_type": "code",
   "execution_count": 6,
   "id": "a5ee54ba",
   "metadata": {},
   "outputs": [
    {
     "name": "stdout",
     "output_type": "stream",
     "text": [
      "[2, 1, 1, 0]\n"
     ]
    }
   ],
   "source": [
    "nums = [5, 2, 6, 1]\n",
    "output = countSmaller(nums)\n",
    "print(output)  # Output: [2, 1, 1, 0]\n"
   ]
  },
  {
   "cell_type": "code",
   "execution_count": 7,
   "id": "ebb68273",
   "metadata": {},
   "outputs": [],
   "source": [
    "#3.\n",
    "def sortArray(nums):\n",
    "    def partition(nums, low, high):\n",
    "        pivot = nums[high]\n",
    "        i = low - 1\n",
    "\n",
    "        for j in range(low, high):\n",
    "            if nums[j] < pivot:\n",
    "                i += 1\n",
    "                nums[i], nums[j] = nums[j], nums[i]\n",
    "\n",
    "        nums[i + 1], nums[high] = nums[high], nums[i + 1]\n",
    "        return i + 1\n",
    "\n",
    "    def quicksort(nums, low, high):\n",
    "        if low < high:\n",
    "            pivot_idx = partition(nums, low, high)\n",
    "            quicksort(nums, low, pivot_idx - 1)\n",
    "            quicksort(nums, pivot_idx + 1, high)\n",
    "\n",
    "    quicksort(nums, 0, len(nums) - 1)\n",
    "    return nums\n"
   ]
  },
  {
   "cell_type": "code",
   "execution_count": 8,
   "id": "b6dad15a",
   "metadata": {},
   "outputs": [
    {
     "name": "stdout",
     "output_type": "stream",
     "text": [
      "[1, 2, 3, 5]\n"
     ]
    }
   ],
   "source": [
    "nums = [5, 2, 3, 1]\n",
    "output = sortArray(nums)\n",
    "print(output)  # Output: [1, 2, 3, 5]\n"
   ]
  },
  {
   "cell_type": "code",
   "execution_count": 9,
   "id": "a9d07c9c",
   "metadata": {},
   "outputs": [],
   "source": [
    "#4.\n",
    "def moveZeroes(nums):\n",
    "    left = 0\n",
    "    right = 0\n",
    "\n",
    "    while right < len(nums):\n",
    "        if nums[right] != 0:\n",
    "            nums[left], nums[right] = nums[right], nums[left]\n",
    "            left += 1\n",
    "        right += 1\n",
    "\n",
    "    while left < len(nums):\n",
    "        nums[left] = 0\n",
    "        left += 1\n",
    "\n",
    "    return nums\n"
   ]
  },
  {
   "cell_type": "code",
   "execution_count": 10,
   "id": "31fcdd0b",
   "metadata": {},
   "outputs": [
    {
     "name": "stdout",
     "output_type": "stream",
     "text": [
      "[1, 2, 4, 3, 5, 0, 0, 0]\n"
     ]
    }
   ],
   "source": [
    "arr = [1, 2, 0, 4, 3, 0, 5, 0]\n",
    "output = moveZeroes(arr)\n",
    "print(output)  # Output: [1, 2, 4, 3, 5, 0, 0, 0]\n"
   ]
  },
  {
   "cell_type": "code",
   "execution_count": 11,
   "id": "ed43d7a6",
   "metadata": {},
   "outputs": [],
   "source": [
    "#5.\n",
    "def rearrangeArray(nums):\n",
    "    pos = 0\n",
    "    neg = 0\n",
    "\n",
    "    while pos < len(nums) and neg < len(nums):\n",
    "        if nums[pos] < 0:\n",
    "            # Find next positive number starting from the neg pointer\n",
    "            while neg < len(nums) and nums[neg] < 0:\n",
    "                neg += 1\n",
    "\n",
    "            if neg >= len(nums):\n",
    "                break\n",
    "\n",
    "            # Shift elements between pos and neg one position to the right\n",
    "            for i in range(neg, pos, -1):\n",
    "                nums[i], nums[i - 1] = nums[i - 1], nums[i]\n",
    "\n",
    "        pos += 1\n",
    "\n",
    "    return nums\n"
   ]
  },
  {
   "cell_type": "code",
   "execution_count": 12,
   "id": "608ea6e1",
   "metadata": {},
   "outputs": [
    {
     "name": "stdout",
     "output_type": "stream",
     "text": [
      "[1, 2, 3, -4, -1, 4]\n"
     ]
    }
   ],
   "source": [
    "arr = [1, 2, 3, -4, -1, 4]\n",
    "output = rearrangeArray(arr)\n",
    "print(output)  # Output: [-4, 1, -1, 2, 3, 4]\n"
   ]
  },
  {
   "cell_type": "code",
   "execution_count": 13,
   "id": "943bbb9e",
   "metadata": {},
   "outputs": [
    {
     "name": "stdout",
     "output_type": "stream",
     "text": [
      "[2]\n"
     ]
    }
   ],
   "source": [
    "#6.\n",
    "def intersection(nums1, nums2):\n",
    "    set1 = set(nums1)\n",
    "    set2 = set(nums2)\n",
    "    result = list(set1.intersection(set2))\n",
    "    return result\n",
    "nums1 = [1, 2, 2, 1]\n",
    "nums2 = [2, 2]\n",
    "output = intersection(nums1, nums2)\n",
    "print(output)  # Output: [2]\n"
   ]
  },
  {
   "cell_type": "code",
   "execution_count": 17,
   "id": "4ed036a1",
   "metadata": {},
   "outputs": [
    {
     "name": "stdout",
     "output_type": "stream",
     "text": [
      "[2]\n"
     ]
    }
   ],
   "source": [
    "#7.\n",
    "def intersection(nums1, nums2):\n",
    "    set1 = set(nums1)\n",
    "    set2 = set(nums2)\n",
    "    result = list(set1.intersection(set2))\n",
    "    return result\n",
    "nums1 = [1, 2, 2, 1]\n",
    "nums2 = [2, 2]\n",
    "output = intersection(nums1, nums2)\n",
    "print(output)  # Output: [2]\n",
    "\n",
    "\n"
   ]
  },
  {
   "cell_type": "code",
   "execution_count": 14,
   "id": "37d0d28a",
   "metadata": {},
   "outputs": [],
   "source": [
    "#8.\n",
    "from collections import defaultdict\n",
    "\n",
    "def intersect(nums1, nums2):\n",
    "    count = defaultdict(int)\n",
    "    result = []\n",
    "\n",
    "    # Update counts of elements in nums1\n",
    "    for num in nums1:\n",
    "        count[num] += 1\n",
    "\n",
    "    # Find intersection and update counts\n",
    "    for num in nums2:\n",
    "        if count[num] > 0:\n",
    "            result.append(num)\n",
    "            count[num] -= 1\n",
    "\n",
    "    return result\n"
   ]
  },
  {
   "cell_type": "code",
   "execution_count": 15,
   "id": "835ac3a1",
   "metadata": {},
   "outputs": [
    {
     "name": "stdout",
     "output_type": "stream",
     "text": [
      "[2, 2]\n"
     ]
    }
   ],
   "source": [
    "nums1 = [1, 2, 2, 1]\n",
    "nums2 = [2, 2]\n",
    "output = intersect(nums1, nums2)\n",
    "print(output)  # Output: [2, 2]\n"
   ]
  },
  {
   "cell_type": "code",
   "execution_count": null,
   "id": "86973621",
   "metadata": {},
   "outputs": [],
   "source": []
  }
 ],
 "metadata": {
  "kernelspec": {
   "display_name": "Python 3 (ipykernel)",
   "language": "python",
   "name": "python3"
  },
  "language_info": {
   "codemirror_mode": {
    "name": "ipython",
    "version": 3
   },
   "file_extension": ".py",
   "mimetype": "text/x-python",
   "name": "python",
   "nbconvert_exporter": "python",
   "pygments_lexer": "ipython3",
   "version": "3.10.9"
  }
 },
 "nbformat": 4,
 "nbformat_minor": 5
}
